{
 "cells": [
  {
   "cell_type": "markdown",
   "id": "fc515c85",
   "metadata": {},
   "source": [
    "# Functions"
   ]
  },
  {
   "cell_type": "markdown",
   "id": "1e8c682f",
   "metadata": {},
   "source": [
    "Default arguments should be specified as right as possible as it is not possible to specify a aprarmeter with no default value after any parameter with a defualt value. Defualt parameter are evaluated once when the function is first defined and not each time the function is called leading to surprising behaviour with mutable objects. "
   ]
  },
  {
   "cell_type": "code",
   "execution_count": 1,
   "id": "7de39616",
   "metadata": {},
   "outputs": [
    {
     "name": "stdout",
     "output_type": "stream",
     "text": [
      "[1]\n",
      "[1, 2]\n"
     ]
    }
   ],
   "source": [
    "def func(x, items=[]):\n",
    "    items.append(x)\n",
    "    return items\n",
    "print(func(1))\n",
    "print(func(2))"
   ]
  },
  {
   "cell_type": "markdown",
   "id": "c1bd7811",
   "metadata": {},
   "source": [
    "To prevent retention of modification from previous invocation in such condition, use None and add a check"
   ]
  },
  {
   "cell_type": "code",
   "execution_count": 2,
   "id": "eeb9b141",
   "metadata": {},
   "outputs": [
    {
     "name": "stdout",
     "output_type": "stream",
     "text": [
      "[1]\n",
      "[2]\n"
     ]
    }
   ],
   "source": [
    "def func(x, items=None):\n",
    "    if items is None:\n",
    "        items=[]\n",
    "    items.append(x)\n",
    "    return items\n",
    "print(func(1))\n",
    "print(func(2))"
   ]
  },
  {
   "cell_type": "markdown",
   "id": "46b150b6",
   "metadata": {},
   "source": [
    "Variadic Arguments"
   ]
  },
  {
   "cell_type": "code",
   "execution_count": 3,
   "id": "13da9f28",
   "metadata": {},
   "outputs": [
    {
     "name": "stdout",
     "output_type": "stream",
     "text": [
      "200\n",
      "120\n"
     ]
    }
   ],
   "source": [
    "def product(first, *args):\n",
    "    result=first\n",
    "    for x in args:\n",
    "        result = result*x\n",
    "    return result\n",
    "print(product(10, 20))\n",
    "print(product(2,3,4,5))"
   ]
  },
  {
   "cell_type": "markdown",
   "id": "b84236f8",
   "metadata": {},
   "source": [
    "Keyword arguments can be used which means explicitly naming each parameter and specifying a value such that order of the arguments doesn't matter as long as each required parameter gets a single value. Positional arguments and keyword arguments can appear in the same function call, provided that all the positonal arguments appear first, values are provided for all non optional arguments and no argument receives more than one value.\n",
    "If desired, it is possible to force the use of keyword arguments. This is done by listing\n",
    "parameters after a * argument or just by including a single * in the definition. "
   ]
  },
  {
   "cell_type": "markdown",
   "id": "71a5ace6",
   "metadata": {},
   "source": [
    "If the last argument of a function definition is prefixed with **, all the additional keyword\n",
    "arguments (those that don’t match any of the other parameter names) are placed in a\n",
    "dictionary and passed to the function. The order of items in this dictionary is guaranteed\n",
    "to match the order in which keyword arguments were provided.\n",
    "The pop() method of a dictionary removes an item from a dictionary, returning a\n",
    "possible default value if it’s not defined. The parms.pop('fgcolor', 'black') expression\n",
    "used in this code mimics the behavior of a keyword argument specified with a default\n",
    "value.\n",
    "```\n",
    "def make_table(data, **parms):\n",
    "# Get configuration parameters from parms (a dict)\n",
    "fgcolor = parms.pop('fgcolor', 'black')\n",
    "bgcolor = parms.pop('bgcolor', 'white')\n",
    "width = parms.pop('width', None)\n",
    "...\n",
    "# No more options\n",
    "if parms:\n",
    "raise TypeError(f'Unsupported configuration options {list(parms)}')\n",
    "make_table(items, fgcolor='black', bgcolor='white', border=1,\n",
    "borderstyle='grooved', cellpadding=10,\n",
    "width=400)\n",
    "```"
   ]
  },
  {
   "cell_type": "markdown",
   "id": "66f73db3",
   "metadata": {},
   "source": [
    "By using both * and **, you can write a function that accepts any combination of\n",
    "arguments. The positional arguments are passed as a tuple and the keyword arguments are\n",
    "passed as a dictionary."
   ]
  },
  {
   "cell_type": "markdown",
   "id": "0801ed87",
   "metadata": {},
   "source": [
    "Positional Only Arguments\n",
    "Indiacted through the presenced of slash (/) in the calling signature of a function, it means all the arguments appearing before the slash can only be specified by position. "
   ]
  },
  {
   "cell_type": "markdown",
   "id": "856cb6e3",
   "metadata": {},
   "source": [
    "### names, documentation strings and type hints\n",
    "Functions named in lowercase with underscore as word separator.\n",
    "Single underscore prepended to function name if it is a helper.\n",
    "''' ''' used to write documentation string. \n",
    "You can also use type hinsts as (n: int)-> int: and so on but is not recommended. "
   ]
  },
  {
   "cell_type": "markdown",
   "id": "13732bf8",
   "metadata": {},
   "source": [
    "### Function Application and Parameter Passing\n",
    "Python passes the supplied objects to the function “as is” without any\n",
    "extra copying. Care is required if mutable objects, such as lists or dictionaries, are passed. If changes are made, those changes are reflected in the original object. Function mutating their input values are said to have side effects and is common for them to return None as their value.  \n"
   ]
  },
  {
   "cell_type": "code",
   "execution_count": null,
   "id": "a8f13f9f",
   "metadata": {},
   "outputs": [
    {
     "name": "stdout",
     "output_type": "stream",
     "text": [
      "6\n",
      "6\n"
     ]
    }
   ],
   "source": [
    "def func(x, y, z):\n",
    "    return x+y+z\n",
    "\n",
    "#passing a sequence as arguments\n",
    "s=(1,2,3)\n",
    "print(func(*s))\n",
    "\n",
    "#passing a mappsing as keyword arguments\n",
    "d={'x':1, 'y':2, 'z':3}\n",
    "print(func(**d))"
   ]
  },
  {
   "cell_type": "markdown",
   "id": "e650af7f",
   "metadata": {},
   "source": [
    "### Return\n",
    "return statement returns a value from a function and returns None if it is not included or no value is there. To return multiple values, place them in a tuple. \n"
   ]
  },
  {
   "cell_type": "code",
   "execution_count": 6,
   "id": "4e90b36a",
   "metadata": {},
   "outputs": [
    {
     "name": "stdout",
     "output_type": "stream",
     "text": [
      "hello world\n"
     ]
    }
   ],
   "source": [
    "def parse_value(text):\n",
    "    parts=text.split('=', 1)\n",
    "    return (parts[0].strip(), parts[1].strip())\n",
    "x,y=parse_value('hello=world')\n",
    "print(x,y)"
   ]
  },
  {
   "cell_type": "code",
   "execution_count": 8,
   "id": "aa7ed573",
   "metadata": {},
   "outputs": [
    {
     "name": "stdout",
     "output_type": "stream",
     "text": [
      "hello World\n"
     ]
    }
   ],
   "source": [
    "from typing import NamedTuple\n",
    "class ParseResult(NamedTuple):\n",
    "    name:str\n",
    "    value:str\n",
    "def parse_value(text):\n",
    "    parts=text.split('=', 1)\n",
    "    return ParseResult(parts[0].strip(), parts[1].strip())\n",
    "r=parse_value('hello=World')\n",
    "print(r.name, r.value)"
   ]
  },
  {
   "cell_type": "markdown",
   "id": "f3371968",
   "metadata": {},
   "source": [
    "### Scoping rules\n"
   ]
  },
  {
   "cell_type": "code",
   "execution_count": 1,
   "id": "aaf50564",
   "metadata": {},
   "outputs": [
    {
     "name": "stdout",
     "output_type": "stream",
     "text": [
      "22 37\n"
     ]
    }
   ],
   "source": [
    "x=12\n",
    "y=37\n",
    "def func():\n",
    "    global x\n",
    "    x=22\n",
    "    y=0\n",
    "func()\n",
    "print(x,y)"
   ]
  },
  {
   "cell_type": "code",
   "execution_count": 2,
   "id": "a1f6198a",
   "metadata": {},
   "outputs": [
    {
     "name": "stdout",
     "output_type": "stream",
     "text": [
      "5\n",
      "4\n",
      "3\n",
      "2\n",
      "1\n"
     ]
    }
   ],
   "source": [
    "def countdown(start):\n",
    "    n=start\n",
    "    def display():\n",
    "        print(n)\n",
    "    def decrement():\n",
    "        nonlocal n\n",
    "        n-=1\n",
    "    while n>0:\n",
    "        display()\n",
    "        decrement()\n",
    "countdown(5)"
   ]
  },
  {
   "cell_type": "markdown",
   "id": "55f1262d",
   "metadata": {},
   "source": [
    "nonlocal cannot be used to refer to a global variable, it must reference a local variable in an outer scope. "
   ]
  },
  {
   "cell_type": "markdown",
   "id": "f29d4f71",
   "metadata": {},
   "source": [
    "### Recursion\n",
    "There is a limit on the depth of recursion function call that can be found using sys.getrecursionlimit() and changed using sys.setrecursionlimit(). The limit increased too much causes a segmentation fault or another operating system error. "
   ]
  },
  {
   "cell_type": "code",
   "execution_count": 4,
   "id": "12dfcc15",
   "metadata": {},
   "outputs": [
    {
     "name": "stdout",
     "output_type": "stream",
     "text": [
      "3000\n"
     ]
    }
   ],
   "source": [
    "import sys\n",
    "print(sys.getrecursionlimit())"
   ]
  },
  {
   "cell_type": "markdown",
   "id": "07535e7b",
   "metadata": {},
   "source": [
    "### lambda expression\n",
    "It defines unnamed function. ```lambda args: expression``` args are comma separated arguments and expression is expression involving those arguments and should be a single valid expression. "
   ]
  },
  {
   "cell_type": "code",
   "execution_count": 8,
   "id": "03a23337",
   "metadata": {},
   "outputs": [
    {
     "name": "stdout",
     "output_type": "stream",
     "text": [
      "5\n"
     ]
    }
   ],
   "source": [
    "a= lambda x, y: x+y\n",
    "print(a(2,3))"
   ]
  },
  {
   "cell_type": "code",
   "execution_count": null,
   "id": "bf6d854d",
   "metadata": {},
   "outputs": [
    {
     "name": "stdout",
     "output_type": "stream",
     "text": [
      "['banana', 'kiwi', 'apple', 'plum']\n"
     ]
    }
   ],
   "source": [
    "words = ['banana', 'apple', 'kiwi', 'plum']\n",
    "result = sorted(words, key=lambda word: len(set(word)))\n",
    "print(result)"
   ]
  },
  {
   "cell_type": "markdown",
   "id": "96ba0795",
   "metadata": {},
   "source": [
    "As a free variable, the lambda function will use whatever value x happens to have a t the time of evaluation. This is called late binding. "
   ]
  },
  {
   "cell_type": "code",
   "execution_count": 12,
   "id": "1b96f835",
   "metadata": {},
   "outputs": [
    {
     "name": "stdout",
     "output_type": "stream",
     "text": [
      "30\n",
      "30\n"
     ]
    }
   ],
   "source": [
    "x = 2\n",
    "f = lambda y: x * y\n",
    "x = 3\n",
    "g = lambda y: x * y\n",
    "print(f(10))\n",
    "print(g(10))"
   ]
  },
  {
   "cell_type": "code",
   "execution_count": 13,
   "id": "c10ced91",
   "metadata": {},
   "outputs": [
    {
     "name": "stdout",
     "output_type": "stream",
     "text": [
      "20\n",
      "30\n"
     ]
    }
   ],
   "source": [
    "x = 2\n",
    "f = lambda y, x=x: x * y\n",
    "x = 3\n",
    "g = lambda y, x=x: x * y\n",
    "print(f(10))\n",
    " # --> prints 20\n",
    "print(g(10))"
   ]
  },
  {
   "cell_type": "markdown",
   "id": "9d5fece9",
   "metadata": {},
   "source": [
    "Use of default arguments captures the value of a variable at the time of definition. "
   ]
  },
  {
   "cell_type": "markdown",
   "id": "9f37fdc6",
   "metadata": {},
   "source": [
    "### higher order functions\n",
    "functions can be passed as arguments to other functions, placed in data structures and returned by a function as a result. Function provided as arguments is called callback functionl  Closure is a function along with an environment containing all the variables needed to execute the function body. Closure points to the variable and the value that it was most recently assigned. "
   ]
  },
  {
   "cell_type": "code",
   "execution_count": 16,
   "id": "45d874d4",
   "metadata": {},
   "outputs": [
    {
     "name": "stdout",
     "output_type": "stream",
     "text": [
      "hello Guido\n"
     ]
    }
   ],
   "source": [
    "import time\n",
    "def main():\n",
    "    name='Guido'\n",
    "    def greeting():\n",
    "        print(\"hello\", name)\n",
    "    after(10, greeting)\n",
    "def after(seconds, func):\n",
    "    time.sleep(seconds)\n",
    "    func()\n",
    "main()"
   ]
  },
  {
   "cell_type": "code",
   "execution_count": 24,
   "id": "9ba7db25",
   "metadata": {},
   "outputs": [
    {
     "name": "stdout",
     "output_type": "stream",
     "text": [
      "Hello Guido\n",
      "Hello Ada\n"
     ]
    }
   ],
   "source": [
    "def make_greeting(name):\n",
    "    def greeting():\n",
    "        print('Hello', name)\n",
    "    return greeting\n",
    "f = make_greeting('Guido')\n",
    "g = make_greeting('Ada')\n",
    "f()\n",
    "g()"
   ]
  },
  {
   "cell_type": "code",
   "execution_count": 26,
   "id": "b2000f51",
   "metadata": {},
   "outputs": [
    {
     "name": "stdout",
     "output_type": "stream",
     "text": [
      "Hello Margaret\n",
      "Hello Margaret\n",
      "Hello Margaret\n"
     ]
    }
   ],
   "source": [
    "def make_greetings(names):\n",
    "    funcs = []\n",
    "    for name in names:\n",
    "        funcs.append(lambda: print('Hello', name))\n",
    "    return funcs\n",
    "# Try it\n",
    "a, b, c = make_greetings(['Guido', 'Ada', 'Margaret'])\n",
    "a()\n",
    " # Prints 'Hello Margaret'\n",
    "b()\n",
    " # Prints 'Hello Margaret'\n",
    "c()\n",
    " # Prints 'Hello Margaret'"
   ]
  },
  {
   "cell_type": "code",
   "execution_count": 27,
   "id": "d94d9030",
   "metadata": {},
   "outputs": [
    {
     "name": "stdout",
     "output_type": "stream",
     "text": [
      "Hello Guido\n",
      "Hello Ada\n",
      "Hello Margaret\n"
     ]
    }
   ],
   "source": [
    "def make_greetings(names):\n",
    "    funcs = []\n",
    "    for name in names:\n",
    "        funcs.append(lambda name=name: print('Hello', name))\n",
    "    return funcs\n",
    "# Try it\n",
    "a, b, c = make_greetings(['Guido', 'Ada', 'Margaret'])\n",
    "a()\n",
    " # Prints 'Hello Margaret'\n",
    "b()\n",
    " # Prints 'Hello Margaret'\n",
    "c()\n",
    " # Prints 'Hello Margaret'"
   ]
  },
  {
   "cell_type": "markdown",
   "id": "260243f0",
   "metadata": {},
   "source": [
    "### Argument passing in callback function\n",
    "you cannot pass the arguments in callback function as it will be evaluated first and then the calling function will be evaluated causing undesirable problems. So you should either use a thunk: a small zero argument function created using lambda  or use functools.partial() to create a partially evaluated function"
   ]
  },
  {
   "cell_type": "code",
   "execution_count": 28,
   "id": "3ea36f24",
   "metadata": {},
   "outputs": [
    {
     "name": "stdout",
     "output_type": "stream",
     "text": [
      "he 5\n"
     ]
    },
    {
     "ename": "TypeError",
     "evalue": "'int' object is not callable",
     "output_type": "error",
     "traceback": [
      "\u001b[31m---------------------------------------------------------------------------\u001b[39m",
      "\u001b[31mTypeError\u001b[39m                                 Traceback (most recent call last)",
      "\u001b[36mCell\u001b[39m\u001b[36m \u001b[39m\u001b[32mIn[28]\u001b[39m\u001b[32m, line 8\u001b[39m\n\u001b[32m      6\u001b[39m     \u001b[38;5;28mprint\u001b[39m(\u001b[33m'\u001b[39m\u001b[33mhe\u001b[39m\u001b[33m'\u001b[39m, x+y)\n\u001b[32m      7\u001b[39m     \u001b[38;5;28;01mreturn\u001b[39;00m (x+y)\n\u001b[32m----> \u001b[39m\u001b[32m8\u001b[39m \u001b[43mafter\u001b[49m\u001b[43m(\u001b[49m\u001b[32;43m10\u001b[39;49m\u001b[43m,\u001b[49m\u001b[43m \u001b[49m\u001b[43madd\u001b[49m\u001b[43m(\u001b[49m\u001b[32;43m2\u001b[39;49m\u001b[43m,\u001b[49m\u001b[32;43m3\u001b[39;49m\u001b[43m)\u001b[49m\u001b[43m)\u001b[49m\n",
      "\u001b[36mCell\u001b[39m\u001b[36m \u001b[39m\u001b[32mIn[28]\u001b[39m\u001b[32m, line 4\u001b[39m, in \u001b[36mafter\u001b[39m\u001b[34m(seconds, func)\u001b[39m\n\u001b[32m      2\u001b[39m \u001b[38;5;28;01mdef\u001b[39;00m\u001b[38;5;250m \u001b[39m\u001b[34mafter\u001b[39m(seconds, func):\n\u001b[32m      3\u001b[39m     time.sleep(seconds)\n\u001b[32m----> \u001b[39m\u001b[32m4\u001b[39m     \u001b[43mfunc\u001b[49m\u001b[43m(\u001b[49m\u001b[43m)\u001b[49m\n",
      "\u001b[31mTypeError\u001b[39m: 'int' object is not callable"
     ]
    }
   ],
   "source": [
    "import time\n",
    "def after(seconds, func):\n",
    "    time.sleep(seconds)\n",
    "    func()\n",
    "def add(x,y):\n",
    "    print('he', x+y)\n",
    "    return (x+y)\n",
    "after(10, add(2,3))"
   ]
  },
  {
   "cell_type": "markdown",
   "id": "bf3d540e",
   "metadata": {},
   "source": [
    "You notice that first the function is evaluated and then the time delay occurs after which an error is seen because, then add(x,y)() which is an int object is being calle"
   ]
  },
  {
   "cell_type": "code",
   "execution_count": 29,
   "id": "b1b75647",
   "metadata": {},
   "outputs": [
    {
     "name": "stdout",
     "output_type": "stream",
     "text": [
      "he 5\n"
     ]
    }
   ],
   "source": [
    "import time\n",
    "def after(seconds, func):\n",
    "    time.sleep(seconds)\n",
    "    func()\n",
    "def add(x,y):\n",
    "    print('he', x+y)\n",
    "    return (x+y)\n",
    "after(10, lambda:add(2,3))"
   ]
  },
  {
   "cell_type": "markdown",
   "id": "da347d95",
   "metadata": {},
   "source": [
    "using thunk our program works as expected. and the use of functools.partial() is shown below. "
   ]
  },
  {
   "cell_type": "code",
   "execution_count": 33,
   "id": "67744fb9",
   "metadata": {},
   "outputs": [
    {
     "name": "stdout",
     "output_type": "stream",
     "text": [
      "he 5\n"
     ]
    }
   ],
   "source": [
    "from functools import partial\n",
    "after(10, partial(add,2,3))"
   ]
  },
  {
   "cell_type": "code",
   "execution_count": 34,
   "id": "b02fff34",
   "metadata": {},
   "outputs": [
    {
     "name": "stdout",
     "output_type": "stream",
     "text": [
      "30 5\n"
     ]
    }
   ],
   "source": [
    "def func(x,y):\n",
    "    return x+y\n",
    "a=2\n",
    "b=3\n",
    "f=lambda: func(a,b)\n",
    "from functools import partial\n",
    "g=partial(func, a, b)\n",
    "a=10\n",
    "b=20\n",
    "print(f(), g())"
   ]
  },
  {
   "cell_type": "markdown",
   "id": "6cac09cf",
   "metadata": {},
   "source": [
    "callables created by partial() are objects that be used in applications where functions are passed around which is not possible with the use of lambda. \n",
    "Currying is a function programming technique where a multiple argument function is expressed as a chain of nested single argument functions. \n"
   ]
  },
  {
   "cell_type": "code",
   "execution_count": 36,
   "id": "39258fc4",
   "metadata": {},
   "outputs": [
    {
     "name": "stdout",
     "output_type": "stream",
     "text": [
      "9\n"
     ]
    }
   ],
   "source": [
    "def f(x, y, z):\n",
    "    return x+y+z\n",
    "print(f(2,3,4))"
   ]
  },
  {
   "cell_type": "code",
   "execution_count": 37,
   "id": "6da6cb16",
   "metadata": {},
   "outputs": [
    {
     "name": "stdout",
     "output_type": "stream",
     "text": [
      "9\n"
     ]
    }
   ],
   "source": [
    "def fc(x):\n",
    "    return lambda y: (lambda z: x+y+z )\n",
    "print(fc(2)(3)(4))"
   ]
  },
  {
   "cell_type": "markdown",
   "id": "5dc401c5",
   "metadata": {},
   "source": [
    "another option is to pass arguments to a callback function to accept them separately as arguments to the outer calling function. Passing keyword arguments to callback function will not be separated as it might clash with the arguments name already in use. You can however use partial function to specify keyword arguments to callback function. "
   ]
  },
  {
   "cell_type": "code",
   "execution_count": 39,
   "id": "feb882dd",
   "metadata": {},
   "outputs": [
    {
     "name": "stdout",
     "output_type": "stream",
     "text": [
      "5\n"
     ]
    }
   ],
   "source": [
    "import time\n",
    "def add(x, y):\n",
    "    print(x+y)\n",
    "    return x+y\n",
    "def after(seconds, func, *args):\n",
    "    time.sleep(seconds)\n",
    "    func(*args)\n",
    "after(10, add, 2,3)"
   ]
  },
  {
   "cell_type": "code",
   "execution_count": 40,
   "id": "9d21076a",
   "metadata": {},
   "outputs": [
    {
     "name": "stdout",
     "output_type": "stream",
     "text": [
      "5\n"
     ]
    }
   ],
   "source": [
    "import time\n",
    "from functools import partial\n",
    "def add(x, y):\n",
    "    print(x+y)\n",
    "    return x+y\n",
    "def after(seconds, func, *args):\n",
    "    time.sleep(seconds)\n",
    "    func(*args)\n",
    "after(10, partial(add, x=2, y=3))"
   ]
  },
  {
   "cell_type": "markdown",
   "id": "36305ea1",
   "metadata": {},
   "source": [
    "You can use positonal only arguments such that the calling function will also use keyword arguments it self\n"
   ]
  },
  {
   "cell_type": "code",
   "execution_count": 42,
   "id": "3049d162",
   "metadata": {},
   "outputs": [
    {
     "name": "stdout",
     "output_type": "stream",
     "text": [
      "5\n"
     ]
    }
   ],
   "source": [
    "import time\n",
    "from functools import partial\n",
    "def add(x, y):\n",
    "    print(x+y)\n",
    "    return x+y\n",
    "def after(seconds, func, debug=False, /, *args, **kwargs):\n",
    "    time.sleep(seconds)\n",
    "    if debug:\n",
    "        print('About to call', func, args, kwargs)\n",
    "    func(*args, **kwargs)\n",
    "after(10, add, x=2, y=3)"
   ]
  },
  {
   "cell_type": "markdown",
   "id": "c830d836",
   "metadata": {},
   "source": [
    "### returning results from callbacks"
   ]
  },
  {
   "cell_type": "code",
   "execution_count": 43,
   "id": "c67dd7a7",
   "metadata": {},
   "outputs": [
    {
     "name": "stdout",
     "output_type": "stream",
     "text": [
      "5\n"
     ]
    }
   ],
   "source": [
    "import time\n",
    "def add(x, y):\n",
    "    #print(x+y)\n",
    "    return x+y\n",
    "def after(seconds, func, *args):\n",
    "    time.sleep(seconds)\n",
    "    return func(*args)\n",
    "a= after(3, add, 2,3)\n",
    "print(a)"
   ]
  },
  {
   "cell_type": "markdown",
   "id": "91afd70f",
   "metadata": {},
   "source": [
    "To separate the error from the callback function or the calling function, you can package errors"
   ]
  },
  {
   "cell_type": "code",
   "execution_count": 44,
   "id": "c606c2c7",
   "metadata": {},
   "outputs": [
    {
     "name": "stdout",
     "output_type": "stream",
     "text": [
      "failure:  can only concatenate str (not \"int\") to str\n"
     ]
    }
   ],
   "source": [
    "import time\n",
    "class CallbackError(Exception):\n",
    "    pass\n",
    "def add(x, y):\n",
    "    print(x+y)\n",
    "    return x+y\n",
    "def after(seconds, func, *args):\n",
    "    time.sleep(seconds)\n",
    "    try:\n",
    "        return func(*args)\n",
    "    except Exception as err:\n",
    "        raise CallbackError('callback function failed') from err\n",
    "try:\n",
    "    a=after(10, add, \"2\",3)\n",
    "except CallbackError as er:\n",
    "    print(\"failure: \", er.__cause__)"
   ]
  },
  {
   "cell_type": "code",
   "execution_count": 45,
   "id": "47db6d05",
   "metadata": {},
   "outputs": [
    {
     "ename": "TypeError",
     "evalue": "'str' object cannot be interpreted as an integer",
     "output_type": "error",
     "traceback": [
      "\u001b[31m---------------------------------------------------------------------------\u001b[39m",
      "\u001b[31mTypeError\u001b[39m                                 Traceback (most recent call last)",
      "\u001b[36mCell\u001b[39m\u001b[36m \u001b[39m\u001b[32mIn[45]\u001b[39m\u001b[32m, line 14\u001b[39m\n\u001b[32m     12\u001b[39m         \u001b[38;5;28;01mraise\u001b[39;00m CallbackError(\u001b[33m'\u001b[39m\u001b[33mcallback function failed\u001b[39m\u001b[33m'\u001b[39m) \u001b[38;5;28;01mfrom\u001b[39;00m\u001b[38;5;250m \u001b[39m\u001b[34;01merr\u001b[39;00m\n\u001b[32m     13\u001b[39m \u001b[38;5;28;01mtry\u001b[39;00m:\n\u001b[32m---> \u001b[39m\u001b[32m14\u001b[39m     a=\u001b[43mafter\u001b[49m\u001b[43m(\u001b[49m\u001b[33;43m\"\u001b[39;49m\u001b[33;43m2\u001b[39;49m\u001b[33;43m\"\u001b[39;49m\u001b[43m,\u001b[49m\u001b[43m \u001b[49m\u001b[43madd\u001b[49m\u001b[43m,\u001b[49m\u001b[43m \u001b[49m\u001b[33;43m\"\u001b[39;49m\u001b[33;43m2\u001b[39;49m\u001b[33;43m\"\u001b[39;49m\u001b[43m,\u001b[49m\u001b[32;43m3\u001b[39;49m\u001b[43m)\u001b[49m\n\u001b[32m     15\u001b[39m \u001b[38;5;28;01mexcept\u001b[39;00m CallbackError \u001b[38;5;28;01mas\u001b[39;00m er:\n\u001b[32m     16\u001b[39m     \u001b[38;5;28mprint\u001b[39m(\u001b[33m\"\u001b[39m\u001b[33mfailure: \u001b[39m\u001b[33m\"\u001b[39m, er.__cause__)\n",
      "\u001b[36mCell\u001b[39m\u001b[36m \u001b[39m\u001b[32mIn[45]\u001b[39m\u001b[32m, line 8\u001b[39m, in \u001b[36mafter\u001b[39m\u001b[34m(seconds, func, *args)\u001b[39m\n\u001b[32m      7\u001b[39m \u001b[38;5;28;01mdef\u001b[39;00m\u001b[38;5;250m \u001b[39m\u001b[34mafter\u001b[39m(seconds, func, *args):\n\u001b[32m----> \u001b[39m\u001b[32m8\u001b[39m     \u001b[43mtime\u001b[49m\u001b[43m.\u001b[49m\u001b[43msleep\u001b[49m\u001b[43m(\u001b[49m\u001b[43mseconds\u001b[49m\u001b[43m)\u001b[49m\n\u001b[32m      9\u001b[39m     \u001b[38;5;28;01mtry\u001b[39;00m:\n\u001b[32m     10\u001b[39m         \u001b[38;5;28;01mreturn\u001b[39;00m func(*args)\n",
      "\u001b[31mTypeError\u001b[39m: 'str' object cannot be interpreted as an integer"
     ]
    }
   ],
   "source": [
    "import time\n",
    "class CallbackError(Exception):\n",
    "    pass\n",
    "def add(x, y):\n",
    "    print(x+y)\n",
    "    return x+y\n",
    "def after(seconds, func, *args):\n",
    "    time.sleep(seconds)\n",
    "    try:\n",
    "        return func(*args)\n",
    "    except Exception as err:\n",
    "        raise CallbackError('callback function failed') from err\n",
    "try:\n",
    "    a=after(\"2\", add, \"2\",3)\n",
    "except CallbackError as er:\n",
    "    print(\"failure: \", er.__cause__)"
   ]
  },
  {
   "cell_type": "markdown",
   "id": "183bf44e",
   "metadata": {},
   "source": [
    "### Decorators\n",
    "It is a fucntion that creates a wrapper around another funtion to alter or enchace the behaviour of the object being wrapped. IT is denoted by using special @symbol"
   ]
  },
  {
   "cell_type": "code",
   "execution_count": 47,
   "id": "6e4e77ee",
   "metadata": {},
   "outputs": [
    {
     "name": "stdout",
     "output_type": "stream",
     "text": [
      "Calling square\n",
      "4\n"
     ]
    }
   ],
   "source": [
    "def trace(func):\n",
    "    def call(*args, **kwargs):\n",
    "        print(\"Calling\", func.__name__)\n",
    "        return func(*args, **kwargs)\n",
    "    return call\n",
    "@trace\n",
    "def square(x):\n",
    "    return x*x\n",
    "print(square(2))"
   ]
  },
  {
   "cell_type": "markdown",
   "id": "dad59301",
   "metadata": {},
   "source": [
    "Wrapper arond a function hides metadata information. So it is best to use @wraps() decorator"
   ]
  },
  {
   "cell_type": "code",
   "execution_count": 49,
   "id": "f3270cf5",
   "metadata": {},
   "outputs": [
    {
     "name": "stdout",
     "output_type": "stream",
     "text": [
      "Calling square\n",
      "4\n"
     ]
    }
   ],
   "source": [
    "from functools import wraps\n",
    "def trace(func):\n",
    "    @wraps(func)\n",
    "    def call(*args, **kwargs):\n",
    "        print(\"Calling\", func.__name__)\n",
    "        return func(*args, **kwargs)\n",
    "    return call\n",
    "@trace\n",
    "def square(x):\n",
    "    return x**2\n",
    "print(square(2))"
   ]
  },
  {
   "cell_type": "markdown",
   "id": "05fc85a8",
   "metadata": {},
   "source": [
    "Decorators must appear on their own line immediately prior to the function. More than one decorator can be applied. Order in which decorators appear might matter with some having to be placed on the outermost level. A decorator can also accept arguments. "
   ]
  },
  {
   "cell_type": "code",
   "execution_count": 56,
   "id": "58e5d7c2",
   "metadata": {},
   "outputs": [
    {
     "name": "stdout",
     "output_type": "stream",
     "text": [
      "You called func1\n",
      "You called func2\n"
     ]
    }
   ],
   "source": [
    "from functools import wraps\n",
    "def trace(message):\n",
    "    def decorate(func):\n",
    "        @wraps(func)\n",
    "        def wrapper(*args, **kwargs):\n",
    "            print(message.format(func=func))\n",
    "            return func(*args, **kwargs)\n",
    "        return wrapper\n",
    "    return decorate\n",
    "@trace('You called {func.__name__}')\n",
    "def func1():\n",
    "    pass\n",
    "@trace('You called {func.__name__}')\n",
    "def func2():\n",
    "    pass\n",
    "func1()\n",
    "func2()"
   ]
  },
  {
   "cell_type": "code",
   "execution_count": 57,
   "id": "07ab7478",
   "metadata": {},
   "outputs": [
    {
     "name": "stdout",
     "output_type": "stream",
     "text": [
      "You called func1\n",
      "You called func2\n"
     ]
    }
   ],
   "source": [
    "from functools import wraps\n",
    "def trace(message):\n",
    "    def decorate(func):\n",
    "        @wraps(func)\n",
    "        def wrapper(*args, **kwargs):\n",
    "            print(message.format(func=func))\n",
    "            return func(*args, **kwargs)\n",
    "        return wrapper\n",
    "    return decorate\n",
    "logged=trace('You called {func.__name__}')\n",
    "@logged\n",
    "def func1():\n",
    "    pass\n",
    "@logged\n",
    "def func2():\n",
    "    pass\n",
    "func1()\n",
    "func2()"
   ]
  },
  {
   "cell_type": "markdown",
   "id": "9109de5f",
   "metadata": {},
   "source": [
    "### Maps Filter and Reduce"
   ]
  },
  {
   "cell_type": "code",
   "execution_count": 1,
   "id": "013765b3",
   "metadata": {},
   "outputs": [
    {
     "name": "stdout",
     "output_type": "stream",
     "text": [
      "1\n",
      "4\n",
      "9\n",
      "16\n",
      "25\n"
     ]
    }
   ],
   "source": [
    "nums=[1,2,3,4,5]\n",
    "#using a generator\n",
    "squares=(x*x for x in nums)\n",
    "for n in squares:\n",
    "    print(n)"
   ]
  },
  {
   "cell_type": "markdown",
   "id": "9f693e14",
   "metadata": {},
   "source": [
    "Python provides a built-in map() function that is the same as mapping a function with a genrator expression. "
   ]
  },
  {
   "cell_type": "code",
   "execution_count": 2,
   "id": "1927c0a6",
   "metadata": {},
   "outputs": [
    {
     "name": "stdout",
     "output_type": "stream",
     "text": [
      "1\n",
      "4\n",
      "9\n",
      "16\n",
      "25\n"
     ]
    }
   ],
   "source": [
    "squares=map(lambda x: x*x, nums)\n",
    "for n in squares:\n",
    "    print(n)"
   ]
  },
  {
   "cell_type": "markdown",
   "id": "f524e7ec",
   "metadata": {},
   "source": [
    "The builtin filter() function creates a generator that filters values."
   ]
  },
  {
   "cell_type": "code",
   "execution_count": 3,
   "id": "ddef0f96",
   "metadata": {},
   "outputs": [
    {
     "name": "stdout",
     "output_type": "stream",
     "text": [
      "3\n",
      "4\n",
      "5\n"
     ]
    }
   ],
   "source": [
    "for n in filter(lambda x: x>2, nums):\n",
    "    print(n)"
   ]
  },
  {
   "cell_type": "markdown",
   "id": "25997089",
   "metadata": {},
   "source": [
    "If you want to accumulate or reduce values, you can use functools.reduce(). It accepts two argment function, an iterable an an inital value. It accumulates value left to right on the supplied iterable, known as left fold operation. "
   ]
  },
  {
   "cell_type": "code",
   "execution_count": 5,
   "id": "eaaee30c",
   "metadata": {},
   "outputs": [
    {
     "name": "stdout",
     "output_type": "stream",
     "text": [
      "15 16 (((((None, 1), 2), 3), 4), 5)\n"
     ]
    }
   ],
   "source": [
    "from functools import reduce\n",
    "nums=[1,2,3,4,5]\n",
    "total=reduce(lambda x, y: x+y, nums)\n",
    "product=reduce(lambda x, y: x+y, nums, 1)\n",
    "pairs=reduce(lambda x, y: (x,y), nums, None)\n",
    "print(total, product, pairs)"
   ]
  },
  {
   "cell_type": "code",
   "execution_count": 9,
   "id": "5570184d",
   "metadata": {},
   "outputs": [
    {
     "name": "stdout",
     "output_type": "stream",
     "text": [
      "(x: int, y: int, debug=False) -> int\n",
      "['x', 'y', 'debug']\n",
      "x <class 'int'> POSITIONAL_OR_KEYWORD <class 'inspect._empty'>\n",
      "y <class 'int'> POSITIONAL_OR_KEYWORD <class 'inspect._empty'>\n",
      "debug <class 'inspect._empty'> POSITIONAL_OR_KEYWORD False\n"
     ]
    }
   ],
   "source": [
    "def add(x: int, y:int, debug=False)->int:\n",
    "    return x+y\n",
    "add.secure=1\n",
    "add.private=1\n",
    "import inspect\n",
    "sig=inspect.signature(add)\n",
    "print(sig)\n",
    "print(list(sig.parameters))\n",
    "for p in sig.parameters.values():\n",
    "    print(p.name, p.annotation, p.kind, p.default)"
   ]
  },
  {
   "cell_type": "code",
   "execution_count": 12,
   "id": "2645fc3a",
   "metadata": {},
   "outputs": [],
   "source": [
    "import inspect\n",
    "def func1(x,y):\n",
    "    pass\n",
    "def func2(x,y):\n",
    "    pass\n",
    "assert inspect.signature(func1)==inspect.signature(func2)"
   ]
  },
  {
   "cell_type": "markdown",
   "id": "a61a405e",
   "metadata": {},
   "source": [
    "### Environment Inspection\n"
   ]
  },
  {
   "cell_type": "code",
   "execution_count": 14,
   "id": "3e17ba6d",
   "metadata": {},
   "outputs": [
    {
     "name": "stdout",
     "output_type": "stream",
     "text": [
      "30\n",
      "20\n"
     ]
    }
   ],
   "source": [
    "def func():\n",
    "    y=20\n",
    "    locs=locals()\n",
    "    locs['y']=30\n",
    "    print(locs['y'])\n",
    "    print(y)\n",
    "func()"
   ]
  },
  {
   "cell_type": "code",
   "execution_count": 15,
   "id": "eda84153",
   "metadata": {},
   "outputs": [
    {
     "name": "stdout",
     "output_type": "stream",
     "text": [
      "30\n",
      "30\n"
     ]
    }
   ],
   "source": [
    "def func():\n",
    "    y=20\n",
    "    locs=locals()\n",
    "    locs['y']=30\n",
    "    y=locs['y']\n",
    "    print(locs['y'])\n",
    "    print(y)\n",
    "func()"
   ]
  },
  {
   "cell_type": "code",
   "execution_count": 3,
   "id": "0c68dd70",
   "metadata": {},
   "outputs": [
    {
     "name": "stdout",
     "output_type": "stream",
     "text": [
      "{'a': 5, 'b': 50}\n",
      "{'x': 2, 'y': 3, 'z': 5}\n"
     ]
    }
   ],
   "source": [
    "import inspect\n",
    "def spam (x, y):\n",
    "    z=x+y\n",
    "    grok(z)\n",
    "def grok(a):\n",
    "    b=a*10\n",
    "    print(inspect.currentframe().f_locals)\n",
    "    print(inspect.currentframe().f_back.f_locals)\n",
    "spam(2,3)"
   ]
  },
  {
   "cell_type": "code",
   "execution_count": 4,
   "id": "835825b0",
   "metadata": {},
   "outputs": [
    {
     "name": "stdout",
     "output_type": "stream",
     "text": [
      "{'a': 5, 'b': 50}\n",
      "{'x': 2, 'y': 3, 'z': 5}\n"
     ]
    }
   ],
   "source": [
    "import sys\n",
    "def grok(a):\n",
    "    b=a*10\n",
    "    print(sys._getframe(0).f_locals)\n",
    "    print(sys._getframe(1).f_locals)\n",
    "spam(2,3)"
   ]
  },
  {
   "cell_type": "code",
   "execution_count": 5,
   "id": "c2414354",
   "metadata": {},
   "outputs": [
    {
     "name": "stdout",
     "output_type": "stream",
     "text": [
      "/tmp/ipykernel_8007/2024920872.py:11\n",
      "x=1\n",
      "y=2\n"
     ]
    },
    {
     "data": {
      "text/plain": [
       "3"
      ]
     },
     "execution_count": 5,
     "metadata": {},
     "output_type": "execute_result"
    }
   ],
   "source": [
    "import inspect\n",
    "from collections import ChainMap\n",
    "def debug(*varnames):\n",
    "    f=inspect.currentframe().f_back\n",
    "    vars=ChainMap(f.f_locals, f.f_globals)\n",
    "    print(f'{f.f_code.co_filename}:{f.f_lineno}')\n",
    "    for name in varnames:\n",
    "        print(f'{name}={vars[name]!r}')\n",
    "def func(x,y):\n",
    "    z=x+y\n",
    "    debug('x','y')\n",
    "    return z\n",
    "func(1,2)"
   ]
  },
  {
   "cell_type": "markdown",
   "id": "9e2b6dd4",
   "metadata": {},
   "source": [
    "### Dynamic code execution and creation\n",
    "exec(str [,globals[,locals]]) executes a string containing arbitrary python code within the local and global namespace of the caller but changes to local variable have no effect. "
   ]
  },
  {
   "cell_type": "code",
   "execution_count": 6,
   "id": "505b37cf",
   "metadata": {},
   "outputs": [
    {
     "name": "stdout",
     "output_type": "stream",
     "text": [
      "3\n",
      "4\n",
      "5\n",
      "6\n"
     ]
    }
   ],
   "source": [
    "a=[3,4,5,6]\n",
    "exec('for i in a: print(i)')"
   ]
  },
  {
   "cell_type": "code",
   "execution_count": 7,
   "id": "0de91417",
   "metadata": {},
   "outputs": [
    {
     "name": "stdout",
     "output_type": "stream",
     "text": [
      "10\n"
     ]
    }
   ],
   "source": [
    "def func():\n",
    "    x=10\n",
    "    exec('x=20')\n",
    "    print(x)\n",
    "func()"
   ]
  },
  {
   "cell_type": "markdown",
   "id": "2bbe1255",
   "metadata": {},
   "source": [
    "exec() can accept one or two dictionary objects that serve as the global and local namespace for the code to be executed."
   ]
  },
  {
   "cell_type": "code",
   "execution_count": 8,
   "id": "c49e520c",
   "metadata": {},
   "outputs": [
    {
     "name": "stdout",
     "output_type": "stream",
     "text": [
      "Parrot\n",
      "Swallow\n",
      "Albatross\n"
     ]
    }
   ],
   "source": [
    "globs={'x':7, 'y':10, 'birds':['Parrot', 'Swallow', 'Albatross']}\n",
    "locs={}\n",
    "exec('z=3*x+4*y', globs, locs)\n",
    "exec('for b in birds: print(b)',globs, locs)"
   ]
  },
  {
   "cell_type": "code",
   "execution_count": 11,
   "id": "977d9bae",
   "metadata": {},
   "outputs": [
    {
     "name": "stdout",
     "output_type": "stream",
     "text": [
      "{'square': <function square at 0x7579818cbec0>, 'cube': <function cube at 0x7579818cbc40>, 'double': <function double at 0x7579818cbb00>}\n",
      "4\n"
     ]
    }
   ],
   "source": [
    "functions_to_create = [\n",
    "    (\"square\", \"x * x\"),\n",
    "    (\"cube\", \"x * x * x\"),\n",
    "    (\"double\", \"x * 2\")\n",
    "]\n",
    "\n",
    "generated_funcs = {}\n",
    "\n",
    "for name, expr in functions_to_create:\n",
    "    func_code = f\"\"\"\n",
    "def {name}(x):\n",
    "    return {expr}\n",
    "\"\"\"\n",
    "    local_dict = {}\n",
    "    exec(func_code, globals(), local_dict)\n",
    "    generated_funcs[name] = local_dict[name]  # Get the function object\n",
    "\n",
    "\n",
    "print(generated_funcs )  # ➜ 25\n",
    "print(generated_funcs['square'](2))"
   ]
  },
  {
   "cell_type": "markdown",
   "id": "9d30d658",
   "metadata": {},
   "source": [
    "### Asynchronous functions and await\n"
   ]
  },
  {
   "cell_type": "code",
   "execution_count": 17,
   "id": "2ca0d5fd",
   "metadata": {},
   "outputs": [
    {
     "name": "stdout",
     "output_type": "stream",
     "text": [
      "Hello eva\n",
      "Hello eva\n"
     ]
    }
   ],
   "source": [
    "import asyncio\n",
    "async def greeting(name):\n",
    "    print(f'Hello {name}')\n",
    "await greeting('eva')\n",
    "#asyncio.run(greeting('eva'))\n",
    "loop = asyncio.get_running_loop()\n",
    "task = loop.create_task(greeting('eva'))\n",
    "await task"
   ]
  },
  {
   "cell_type": "code",
   "execution_count": null,
   "id": "0e77e132",
   "metadata": {},
   "outputs": [],
   "source": []
  }
 ],
 "metadata": {
  "kernelspec": {
   "display_name": "learnpython",
   "language": "python",
   "name": "python3"
  },
  "language_info": {
   "codemirror_mode": {
    "name": "ipython",
    "version": 3
   },
   "file_extension": ".py",
   "mimetype": "text/x-python",
   "name": "python",
   "nbconvert_exporter": "python",
   "pygments_lexer": "ipython3",
   "version": "3.13.3"
  }
 },
 "nbformat": 4,
 "nbformat_minor": 5
}
