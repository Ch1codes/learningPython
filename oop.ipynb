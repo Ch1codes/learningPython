{
 "cells": [
  {
   "cell_type": "markdown",
   "id": "11925a30",
   "metadata": {},
   "source": [
    "# OOP\n"
   ]
  },
  {
   "cell_type": "code",
   "execution_count": 29,
   "id": "39466d28",
   "metadata": {},
   "outputs": [
    {
     "name": "stdout",
     "output_type": "stream",
     "text": [
      "<bound method Account.inquiry of Account('ram', 10.0)>\n",
      "ram\n",
      "{'owner': 'ram', 'balance': 10.0}\n",
      "<class '__main__.Account'> <function Account.deposit at 0x7e1a8f40e200> <function Account.inquiry at 0x7e1a8f40e340>\n"
     ]
    }
   ],
   "source": [
    "class Account:\n",
    "    '''\n",
    "    a simple bank account\n",
    "    ''' #documentation string\n",
    "\n",
    "    owner:str\n",
    "    balance:float\n",
    "\n",
    "    def __init__(self, owner, balance):\n",
    "        self.owner=owner\n",
    "        self.balance=balance\n",
    "    def __repr__(self):\n",
    "        #return f'Account({self.owner!r}, {self.balance!r})' #hardcoded\n",
    "        return f'{type(self).__name__}({self.owner!r}, {self.balance!r})'\n",
    "    def deposit(self, amount):\n",
    "        self.balance+=amount\n",
    "    def  withdraw(self, amount):\n",
    "        self.balance-=amount\n",
    "    def inquiry(self):\n",
    "        return self.balance\n",
    "\n",
    "a=Account(\"ram\", 10.0)\n",
    "print(a.inquiry)\n",
    "print(a.owner)\n",
    "print(vars(a))\n",
    "print(type(a), type(a).deposit, type(a).inquiry)"
   ]
  },
  {
   "cell_type": "markdown",
   "id": "49bd4803",
   "metadata": {},
   "source": [
    "Everything in Python is a dynamic process with very few restriction. If you want to add a new attribute to an object after its been created, you're free to do that.\n"
   ]
  },
  {
   "cell_type": "code",
   "execution_count": 5,
   "id": "e984b132",
   "metadata": {},
   "outputs": [
    {
     "name": "stdout",
     "output_type": "stream",
     "text": [
      "2020/2/12\n"
     ]
    }
   ],
   "source": [
    "a=Account(\"hari\", 20.0)\n",
    "a.creation_date='2020/2/12'\n",
    "print(a.creation_date)"
   ]
  },
  {
   "cell_type": "code",
   "execution_count": 6,
   "id": "18e087e8",
   "metadata": {},
   "outputs": [
    {
     "ename": "AttributeError",
     "evalue": "'Account' object has no attribute 'creation_date'",
     "output_type": "error",
     "traceback": [
      "\u001b[31m---------------------------------------------------------------------------\u001b[39m",
      "\u001b[31mAttributeError\u001b[39m                            Traceback (most recent call last)",
      "\u001b[36mCell\u001b[39m\u001b[36m \u001b[39m\u001b[32mIn[6]\u001b[39m\u001b[32m, line 2\u001b[39m\n\u001b[32m      1\u001b[39m \u001b[38;5;28;01mdel\u001b[39;00m a.creation_date\n\u001b[32m----> \u001b[39m\u001b[32m2\u001b[39m \u001b[38;5;28mprint\u001b[39m(\u001b[43ma\u001b[49m\u001b[43m.\u001b[49m\u001b[43mcreation_date\u001b[49m)\n",
      "\u001b[31mAttributeError\u001b[39m: 'Account' object has no attribute 'creation_date'"
     ]
    }
   ],
   "source": [
    "del a.creation_date\n",
    "print(a.creation_date)"
   ]
  },
  {
   "cell_type": "code",
   "execution_count": 10,
   "id": "86fed42d",
   "metadata": {},
   "outputs": [
    {
     "name": "stdout",
     "output_type": "stream",
     "text": [
      "shyam\n",
      "90.0\n",
      "True\n",
      "70.0\n"
     ]
    }
   ],
   "source": [
    "b=Account(\"shyam\", 30.0)\n",
    "print(getattr(b, 'owner' ))\n",
    "setattr(a, 'balance', 90.0)\n",
    "print(getattr(a, 'balance'))\n",
    "setattr(a, 'Fraud', True)\n",
    "print(hasattr(a, 'Fraud'))\n",
    "getattr(a, 'withdraw')(20)\n",
    "print(getattr(a, 'balance'))"
   ]
  },
  {
   "cell_type": "code",
   "execution_count": 14,
   "id": "5f812a89",
   "metadata": {},
   "outputs": [
    {
     "data": {
      "text/plain": [
       "30.0"
      ]
     },
     "execution_count": 14,
     "metadata": {},
     "output_type": "execute_result"
    }
   ],
   "source": [
    "getattr(b, 'balance', 'unknown')\n",
    "# getattr(a, 'creation_date', 'unknown')"
   ]
  },
  {
   "cell_type": "code",
   "execution_count": 15,
   "id": "7f34c18d",
   "metadata": {},
   "outputs": [
    {
     "data": {
      "text/plain": [
       "'unknown'"
      ]
     },
     "execution_count": 15,
     "metadata": {},
     "output_type": "execute_result"
    }
   ],
   "source": [
    "getattr(a, 'creation_date', 'unknown')\n"
   ]
  },
  {
   "cell_type": "code",
   "execution_count": 17,
   "id": "53bc8a2f",
   "metadata": {},
   "outputs": [
    {
     "name": "stdout",
     "output_type": "stream",
     "text": [
      "<bound method Account.withdraw of Account('shyam', 30.0)>\n"
     ]
    }
   ],
   "source": [
    "w=b.withdraw\n",
    "print(w)"
   ]
  },
  {
   "cell_type": "code",
   "execution_count": 19,
   "id": "b873482e",
   "metadata": {},
   "outputs": [
    {
     "name": "stdout",
     "output_type": "stream",
     "text": [
      "None\n",
      "130.0\n"
     ]
    }
   ],
   "source": [
    "d=b.deposit\n",
    "print(d(100.0))\n",
    "print(b.inquiry())"
   ]
  },
  {
   "cell_type": "markdown",
   "id": "42f5a4b1",
   "metadata": {},
   "source": [
    "### Operator overloading"
   ]
  },
  {
   "cell_type": "code",
   "execution_count": 21,
   "id": "0c3ec2f7",
   "metadata": {},
   "outputs": [
    {
     "name": "stdout",
     "output_type": "stream",
     "text": [
      "1500.0\n",
      "2\n",
      "Account('Sita', 1000.0)\n",
      "Account('Sam', 500.0)\n",
      "500.0\n"
     ]
    }
   ],
   "source": [
    "class AccountPortfolio:\n",
    "    def __init__(self):\n",
    "        self.accounts=[]\n",
    "    def add_account(self, account):\n",
    "        self.accounts.append(account)\n",
    "    def total_funds(self):\n",
    "        return sum(account.inquiry() for account in self)\n",
    "    def __len__(self):\n",
    "        return len(self.accounts)\n",
    "    def __getitem__(self, index):\n",
    "        return self.accounts[index]\n",
    "    def __iter__(self):\n",
    "        return iter(self.accounts)\n",
    "\n",
    "port=AccountPortfolio()\n",
    "port.add_account(Account(\"Sita\", 1000.0))\n",
    "port.add_account(Account(\"Sam\", 500.0))\n",
    "print(port.total_funds())\n",
    "print(len(port))\n",
    "for account in port:\n",
    "    print(account)\n",
    "print(port[1].inquiry())"
   ]
  },
  {
   "cell_type": "markdown",
   "id": "32cec6df",
   "metadata": {},
   "source": [
    "### Inheritance \n",
    "It is the mechanism for creating anew class tha specializes of modifies the behaviour of an existing class.  A derived class may redefine any of the attributes inherited and add new attributes of its own.\n",
    "Inheritance is specified with a comma-separated list of base-class in the calss statement. With no specified base class, a class implicityly inherits from object. "
   ]
  },
  {
   "cell_type": "code",
   "execution_count": 22,
   "id": "2ada9f94",
   "metadata": {},
   "outputs": [
    {
     "name": "stdout",
     "output_type": "stream",
     "text": [
      "990.0\n",
      "0.0\n"
     ]
    }
   ],
   "source": [
    "class MyAccount(Account):\n",
    "    def panic(self):\n",
    "        self.withdraw(self.balance)\n",
    "a=MyAccount('Laxmi', 1000.00)\n",
    "a.withdraw(10)\n",
    "print(a.balance)\n",
    "a.panic()\n",
    "print(a.balance)"
   ]
  },
  {
   "cell_type": "code",
   "execution_count": 25,
   "id": "70959326",
   "metadata": {},
   "outputs": [
    {
     "name": "stdout",
     "output_type": "stream",
     "text": [
      "1100.0\n"
     ]
    }
   ],
   "source": [
    "import random\n",
    "class EvilAccount(Account):\n",
    "    def inquiry(self):\n",
    "        if random.randint(0, 4)==1:\n",
    "            return self.balance*1.1\n",
    "        else:\n",
    "            return self.balance\n",
    "a=EvilAccount(\"Hariom\", 100.0)\n",
    "a.deposit(1000.0)\n",
    "print(a.inquiry())"
   ]
  },
  {
   "cell_type": "markdown",
   "id": "4f0b78c2",
   "metadata": {},
   "source": [
    "A derive class would reimplement a method but may also need to call the original implementation. A method can explicitly call the original method using super()"
   ]
  },
  {
   "cell_type": "code",
   "execution_count": 26,
   "id": "65550bb6",
   "metadata": {},
   "outputs": [
    {
     "name": "stdout",
     "output_type": "stream",
     "text": [
      "1100.0\n"
     ]
    }
   ],
   "source": [
    "class EvilAccount(Account):\n",
    "    def inquiry(self):\n",
    "        if random.randint(0,4)==1:\n",
    "            return 1.1*super().inquiry()\n",
    "        else:\n",
    "            return super().inquiry()\n",
    "print(a.inquiry())"
   ]
  },
  {
   "cell_type": "markdown",
   "id": "345f1786",
   "metadata": {},
   "source": [
    "Inheritance might also be used to add additional attributes to instances "
   ]
  },
  {
   "cell_type": "code",
   "execution_count": 30,
   "id": "ba46589c",
   "metadata": {},
   "outputs": [
    {
     "name": "stdout",
     "output_type": "stream",
     "text": [
      "EvilAccount('eva', 1220.09)\n"
     ]
    }
   ],
   "source": [
    "class EvilAccount(Account):\n",
    "    def __init__(self, owner, balance, factor):\n",
    "        super().__init__(owner, balance)\n",
    "        self.factor=factor\n",
    "    def inquiry(self):\n",
    "        if random.randint(0,4)==1:\n",
    "            return self.factor*super().inquiry()\n",
    "        else:\n",
    "            return super().inquiry()\n",
    "\n",
    "# when __init__() is redefined, it is the responsibility of the child to initialize its parent using super().__init__(). Since initializtion of child requires additonal arguments, those still must be passed to the child __init__() method\n",
    "\n",
    "a= EvilAccount(\"eva\", 1220.09,1)\n",
    "print(a)"
   ]
  },
  {
   "cell_type": "markdown",
   "id": "f6b140dd",
   "metadata": {},
   "source": [
    "Avoid the hardcoding of class names"
   ]
  },
  {
   "cell_type": "code",
   "execution_count": 31,
   "id": "ff7ca553",
   "metadata": {},
   "outputs": [
    {
     "name": "stdout",
     "output_type": "stream",
     "text": [
      "<class '__main__.EvilAccount'>\n",
      "True\n"
     ]
    }
   ],
   "source": [
    "print(type(a))\n",
    "print(isinstance(a, Account))"
   ]
  },
  {
   "cell_type": "markdown",
   "id": "8eeff0c5",
   "metadata": {},
   "source": [
    "Inheritance establishes a relationship in the type system where any child class will type-check as the parent class. this is 'is a ' relationship. This relationship is used to define object type ontologies or taxonomies. "
   ]
  },
  {
   "cell_type": "markdown",
   "id": "cd16f6ca",
   "metadata": {},
   "source": [
    "### Avoiding Inheritance via composition\n",
    "Implementation inheritance should be tricky as features that aren't pertinent to the problem being solved may also be inherited. So, composition is used. For eg, instead of inheriting a list in stack, you can buld a stack as an independent class that happens to have a list contained in it. This way there will be no extraneous list methods or nonstack features. You can even modify it to accpet an internal list class as an optional argument which will promote loose coupling of components. this makes it so that instead of hardwiring Stack to depend on list, you can make it depend on any container a user decides to pass in, provided it implements the required interface. this is called *dependency injection*"
   ]
  },
  {
   "cell_type": "code",
   "execution_count": 32,
   "id": "b1d98764",
   "metadata": {},
   "outputs": [
    {
     "name": "stdout",
     "output_type": "stream",
     "text": [
      "2\n"
     ]
    }
   ],
   "source": [
    "class Stack(list):\n",
    "    def push(self, item):\n",
    "        self.append(item)\n",
    "\n",
    "s=Stack()\n",
    "s.push(1)\n",
    "s.push(2)\n",
    "print(s.pop())"
   ]
  },
  {
   "cell_type": "code",
   "execution_count": 33,
   "id": "bf17b09b",
   "metadata": {},
   "outputs": [
    {
     "name": "stdout",
     "output_type": "stream",
     "text": [
      "3\n"
     ]
    }
   ],
   "source": [
    "class Stack:\n",
    "    def __init__(self):\n",
    "        self._items=list()\n",
    "    def push(self, item):\n",
    "        self._items.append(item)\n",
    "    def pop(self):\n",
    "        return self._items.pop()\n",
    "    def __len__(self):\n",
    "        return len(self._items)\n",
    "\n",
    "st=Stack()\n",
    "st.push(2)\n",
    "st.push(3)\n",
    "print(st.pop())"
   ]
  },
  {
   "cell_type": "code",
   "execution_count": 34,
   "id": "35054e04",
   "metadata": {},
   "outputs": [
    {
     "name": "stdout",
     "output_type": "stream",
     "text": [
      "14\n"
     ]
    }
   ],
   "source": [
    "class Stack:\n",
    "    def __init__(self, *, container=None):\n",
    "        if container is None:\n",
    "            container=list()\n",
    "        self._items=container\n",
    "    def push(self, item):\n",
    "        self._items.append(item)\n",
    "    def pop(self):\n",
    "        return self._items.pop()\n",
    "    def __len__(self):\n",
    "        return len(self._items)\n",
    "\n",
    "import array\n",
    "s=Stack(container=array.array('i'))\n",
    "s.push(12)\n",
    "s.push(14)\n",
    "print(s.pop())"
   ]
  },
  {
   "cell_type": "code",
   "execution_count": 36,
   "id": "7b35c072",
   "metadata": {},
   "outputs": [
    {
     "name": "stdout",
     "output_type": "stream",
     "text": [
      "18\n"
     ]
    }
   ],
   "source": [
    "class Stack:\n",
    "    def __init__(self):\n",
    "        self._items=None\n",
    "        self._size=0\n",
    "    def push(self, item):\n",
    "        self._items=(item, self._items)\n",
    "        self._size+=1\n",
    "    def pop(self):\n",
    "        (item, self._items)=self._items\n",
    "        self._size-=1\n",
    "        return item\n",
    "    def __len__(self):\n",
    "        return self._size\n",
    "s=Stack()\n",
    "s.push(19)\n",
    "s.push(18)\n",
    "print(s.pop())"
   ]
  },
  {
   "cell_type": "markdown",
   "id": "8ba7382e",
   "metadata": {},
   "source": [
    "### avoiding inheritance via functions\n",
    "If you're writing a lot of single-method classes, consider using functions instead.  "
   ]
  },
  {
   "cell_type": "markdown",
   "id": "ffd7a9ad",
   "metadata": {},
   "source": [
    "### Dynamic binding and duck typing\n",
    "Dynamic binding is runtime mechanism that Python uses to find the attributes of objects, which allows Python to work with instances without regard for their type. attribute binding is independent of what kind of object obj is. If you make a lookup such as obj.name, it will work on any obj whatsoever that happens to have a name attribute. This behaviour is called uck typing.  "
   ]
  },
  {
   "cell_type": "markdown",
   "id": "2d4c3695",
   "metadata": {},
   "source": [
    "### Dangers of inheriting from built-in types\n",
    "Python's built-in types are implemented in C, so though inheritance is allowed, there is danger of the redefined method not being used.\n",
    "The collections module has special classes UserDict, UserList and UserString that can be used to make safe subclasses. Try avoiding subclassing a built-in type wherever possible. "
   ]
  },
  {
   "cell_type": "code",
   "execution_count": 37,
   "id": "be38d7a2",
   "metadata": {},
   "outputs": [
    {
     "name": "stdout",
     "output_type": "stream",
     "text": [
      "{'NAME': 'Ram', 'NUMBER': 2}\n"
     ]
    }
   ],
   "source": [
    "class udict(dict):\n",
    "    def __setitem__(self, key, value):\n",
    "        super().__setitem__(key.upper(), value)\n",
    "u=udict()\n",
    "u['name']='Ram'\n",
    "u['number']=2\n",
    "print(u)\n"
   ]
  },
  {
   "cell_type": "code",
   "execution_count": 40,
   "id": "18dcf16d",
   "metadata": {},
   "outputs": [
    {
     "name": "stdout",
     "output_type": "stream",
     "text": [
      "{'name': 'Ram', 'number': 37}\n",
      "{'name': 'Ram', 'number': 37, 'color': 'blue'}\n"
     ]
    }
   ],
   "source": [
    "u=udict(name='Ram', number=37)\n",
    "print(u)\n",
    "u.update(color='blue')\n",
    "print(u)"
   ]
  },
  {
   "cell_type": "code",
   "execution_count": 1,
   "id": "5ed417d1",
   "metadata": {},
   "outputs": [
    {
     "name": "stdout",
     "output_type": "stream",
     "text": [
      "{'NAME': 'Ram', 'NUMBER': 37}\n",
      "{'NAME': 'Ram', 'NUMBER': 37, 'COLOR': 'blue'}\n"
     ]
    }
   ],
   "source": [
    "from collections import UserDict\n",
    "\n",
    "class udict(UserDict):\n",
    "    def __setitem__(self, key, value):\n",
    "        super().__setitem__(key.upper(), value)\n",
    "u=udict(name='Ram', number=37)\n",
    "print(u)\n",
    "u.update(color='blue')\n",
    "print(u)"
   ]
  },
  {
   "cell_type": "markdown",
   "id": "95c12276",
   "metadata": {},
   "source": [
    "### class variables and mehtods. \n",
    "A class itself is also an object that can carry state and be manipulated as well. \n",
    " "
   ]
  },
  {
   "cell_type": "code",
   "execution_count": 7,
   "id": "78ddda86",
   "metadata": {},
   "outputs": [
    {
     "name": "stdout",
     "output_type": "stream",
     "text": [
      "2\n",
      "2\n"
     ]
    }
   ],
   "source": [
    "class Account:\n",
    "    '''\n",
    "    a simple bank account\n",
    "    ''' #documentation string\n",
    "\n",
    "    owner:str\n",
    "    balance:float\n",
    "    num_accounts=0 #class variable\n",
    "\n",
    "    def __init__(self, owner, balance):\n",
    "        self.owner=owner\n",
    "        self.balance=balance\n",
    "        Account.num_accounts+=1\n",
    "    def __repr__(self):\n",
    "        #return f'Account({self.owner!r}, {self.balance!r})' #hardcoded\n",
    "        return f'{type(self).__name__}({self.owner!r}, {self.balance!r})'\n",
    "    def deposit(self, amount):\n",
    "        self.balance+=amount\n",
    "    def  withdraw(self, amount):\n",
    "        self.deposit(-amount)\n",
    "    def inquiry(self):\n",
    "        return self.balance\n",
    "\n",
    "a=Account('niva', 100)\n",
    "b=Account('eva', 2020)\n",
    "print(Account.num_accounts)\n",
    "c=a.num_accounts\n",
    "print(c)"
   ]
  },
  {
   "cell_type": "markdown",
   "id": "fca78e19",
   "metadata": {},
   "source": [
    "A class method is a method applied to the class itself, not to instances. A common use is to define alternate instance constructors. The first argument of a class method is always the class itself and by convention, the argument is named cls. "
   ]
  },
  {
   "cell_type": "code",
   "execution_count": 1,
   "id": "d06d5175",
   "metadata": {},
   "outputs": [],
   "source": [
    "class Account:\n",
    "    def __init__(self, owner, balance):\n",
    "        self.owner=owner\n",
    "        self.balance=balance\n",
    "    @classmethod\n",
    "    def from_xml(cls, data):\n",
    "        from xml.etree.ElementTree import XML\n",
    "        doc=XML(data)\n",
    "        return cls(doc.findtext('owner'), float(doc.findtext('amount')))\n",
    "\n",
    "data='''\n",
    "<account>\n",
    "<owner>Guido</owner>\n",
    "<amount>1000.0</amount>\n",
    "</account>\n",
    "'''\n",
    "a=Account.from_xml(data)\n"
   ]
  },
  {
   "cell_type": "markdown",
   "id": "bd785d13",
   "metadata": {},
   "source": [
    "Class variables and class methods are sometimes used together to configure and control how instances operate. "
   ]
  },
  {
   "cell_type": "code",
   "execution_count": 5,
   "id": "3a67b99c",
   "metadata": {},
   "outputs": [
    {
     "name": "stdout",
     "output_type": "stream",
     "text": [
      "1967-04-09\n",
      "4/9/1967\n",
      "9/4/1967\n",
      "5/5/2025\n",
      "5/5/2025\n"
     ]
    }
   ],
   "source": [
    "import time\n",
    "class Date:\n",
    "    datefmt='{year}-{month:02d}-{day:02d}'\n",
    "    def __init__(self, year, month, day):\n",
    "        self.year=year\n",
    "        self.month=month\n",
    "        self.day=day\n",
    "    def __str__(self):\n",
    "        return self.datefmt.format(year=self.year, month=self.month, day=self.day)\n",
    "\n",
    "    @classmethod\n",
    "    def from_timestamp(cls, ts):\n",
    "        tm=time.localtime(ts)\n",
    "        return cls(tm.tm_year, tm.tm_mon, tm.tm_mday)\n",
    "    @classmethod\n",
    "    def today(cls):\n",
    "        return cls.from_timestamp(time.time())\n",
    "\n",
    "class MDYDate(Date):\n",
    "        datefmt='{month}/{day}/{year}'\n",
    "\n",
    "class DMYDate(Date):\n",
    "        datefmt='{day}/{month}/{year}'\n",
    "\n",
    "\n",
    "a=Date(1967, 4,9)\n",
    "print(a)\n",
    "b=MDYDate(1967, 4,9)\n",
    "print(b)\n",
    "c=DMYDate(1967,4,9)\n",
    "print(c)\n",
    "\n",
    "d=MDYDate.today()\n",
    "e=DMYDate.today()\n",
    "print(d)\n",
    "print(e)"
   ]
  },
  {
   "cell_type": "markdown",
   "id": "ac43af76",
   "metadata": {},
   "source": [
    "The common naming convention for class methods is to influde the word *from_* as prefix. \n",
    "One caution about class methods is that python does not manage them in a namespace separate from the isntance methods meaning they can still be invoked on an instance. \n"
   ]
  },
  {
   "cell_type": "code",
   "execution_count": 6,
   "id": "141abec0",
   "metadata": {},
   "outputs": [
    {
     "name": "stdout",
     "output_type": "stream",
     "text": [
      "2025-05-05\n"
     ]
    }
   ],
   "source": [
    "print(a.today())"
   ]
  },
  {
   "cell_type": "markdown",
   "id": "4e4eeac6",
   "metadata": {},
   "source": [
    "### static methods\n",
    "A static method does not take an extra self or cls arguments and uses a class as merely a namespace for it. You don't normally create instances of such a class but call the functions directly through the class. "
   ]
  },
  {
   "cell_type": "markdown",
   "id": "56a50912",
   "metadata": {},
   "source": []
  }
 ],
 "metadata": {
  "kernelspec": {
   "display_name": "Python 3",
   "language": "python",
   "name": "python3"
  },
  "language_info": {
   "codemirror_mode": {
    "name": "ipython",
    "version": 3
   },
   "file_extension": ".py",
   "mimetype": "text/x-python",
   "name": "python",
   "nbconvert_exporter": "python",
   "pygments_lexer": "ipython3",
   "version": "3.13.0"
  }
 },
 "nbformat": 4,
 "nbformat_minor": 5
}
