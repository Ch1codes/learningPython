{
 "cells": [
  {
   "cell_type": "markdown",
   "id": "243d28d4",
   "metadata": {},
   "source": [
    "# generator"
   ]
  },
  {
   "cell_type": "markdown",
   "id": "a6ffc22d",
   "metadata": {},
   "source": [
    "### Generators and yield\n",
    "if a function uses the yield keyword, it defines an object known as generator whose primary use is to produce values for use in iteration. "
   ]
  },
  {
   "cell_type": "code",
   "execution_count": 6,
   "id": "749276ac",
   "metadata": {},
   "outputs": [
    {
     "name": "stdout",
     "output_type": "stream",
     "text": [
      "Counting down from 10\n",
      "10\n",
      "9\n",
      "8\n",
      "7\n",
      "6\n",
      "5\n",
      "4\n",
      "3\n",
      "2\n",
      "1\n",
      "Counting down from 10\n",
      "55\n"
     ]
    }
   ],
   "source": [
    "def countdown(n):\n",
    "    print('Counting down from', n)\n",
    "    while n>0:\n",
    "        yield n\n",
    "        n-=1\n",
    "for x in countdown(10):\n",
    "    print(x)\n",
    "a=sum(countdown(10))\n",
    "print(a)"
   ]
  },
  {
   "cell_type": "code",
   "execution_count": 3,
   "id": "8f82d042",
   "metadata": {},
   "outputs": [
    {
     "name": "stdout",
     "output_type": "stream",
     "text": [
      "<generator object countdown at 0x7abb74c572a0>\n"
     ]
    }
   ],
   "source": [
    "c=countdown(10)\n",
    "print(c)"
   ]
  },
  {
   "cell_type": "code",
   "execution_count": 4,
   "id": "2ea866d2",
   "metadata": {},
   "outputs": [
    {
     "name": "stdout",
     "output_type": "stream",
     "text": [
      "Counting down from 10\n",
      "10\n",
      "9\n",
      "8\n"
     ]
    }
   ],
   "source": [
    "print(next(c))\n",
    "print(next(c))\n",
    "print(next(c))\n"
   ]
  },
  {
   "cell_type": "markdown",
   "id": "5515279b",
   "metadata": {},
   "source": [
    "next() statement makes the generator execute statements until it reaches yield statement, which returns a result and point of execution of fucntion is suspended until next() is invoked again. While it's suspended, the function retains all of its local vairables and execution environment. When resumed, execution continues with the statement follwoing the yield. "
   ]
  },
  {
   "cell_type": "markdown",
   "id": "faf388f1",
   "metadata": {},
   "source": [
    "a generator function produces items until it returns--- by reaching the end of the function or by using a return statement. this raises a StopIteration exception that terminates a for loop. If a generator function returns a non-None value, it is attached to the StopIteration exception. "
   ]
  },
  {
   "cell_type": "code",
   "execution_count": 8,
   "id": "d8aa8d9f",
   "metadata": {},
   "outputs": [
    {
     "name": "stdout",
     "output_type": "stream",
     "text": [
      "<generator object func at 0x7abb7476c3b0>\n",
      "37\n",
      "41\n"
     ]
    }
   ],
   "source": [
    "def func():\n",
    "    yield 37\n",
    "    return 41\n",
    "f=func()\n",
    "print(f)\n",
    "try:\n",
    "    print(next(f))\n",
    "    print(next(f))\n",
    "except StopIteration as e:\n",
    "    value=e.value\n",
    "    print(value)"
   ]
  },
  {
   "cell_type": "markdown",
   "id": "895463b0",
   "metadata": {},
   "source": [
    "If a generator is only partially consumed, the genrator function should perform some kind of cleanup action, make sure you sue ty-finally or a context manager. "
   ]
  },
  {
   "cell_type": "code",
   "execution_count": 10,
   "id": "8027cb25",
   "metadata": {},
   "outputs": [
    {
     "name": "stdout",
     "output_type": "stream",
     "text": [
      "counting down from 10\n",
      "10\n",
      "9\n",
      "8\n",
      "7\n",
      "6\n",
      "Only made it to 5\n"
     ]
    }
   ],
   "source": [
    "def countdown(n):\n",
    "    print('counting down from', n)\n",
    "    try: \n",
    "        while n>0:\n",
    "            yield n\n",
    "            n-=1\n",
    "    finally:\n",
    "        print('Only made it to', n)\n",
    "for  n in countdown(10):\n",
    "    if n==5:\n",
    "        break\n",
    "    print(n)"
   ]
  },
  {
   "cell_type": "markdown",
   "id": "8fad777a",
   "metadata": {},
   "source": [
    "### Restartable generators\n",
    "If you want an object that allows repeated iteration, define it as a class and make the \\_\\_iter\\_\\_() method a generator."
   ]
  },
  {
   "cell_type": "code",
   "execution_count": 11,
   "id": "67da3bc5",
   "metadata": {},
   "outputs": [
    {
     "name": "stdout",
     "output_type": "stream",
     "text": [
      "counting down from 3\n",
      "3\n",
      "2\n",
      "1\n",
      "Only made it to 0\n"
     ]
    }
   ],
   "source": [
    "c=countdown(3)\n",
    "for n in c:\n",
    "    print(n)\n",
    "for n in c:\n",
    "    print(n)"
   ]
  },
  {
   "cell_type": "code",
   "execution_count": 12,
   "id": "a6fb9904",
   "metadata": {},
   "outputs": [
    {
     "name": "stdout",
     "output_type": "stream",
     "text": [
      "3\n",
      "2\n",
      "1\n",
      "3\n",
      "2\n",
      "1\n"
     ]
    }
   ],
   "source": [
    "class countdown:\n",
    "    def __init__(self, start):\n",
    "        self.start=start\n",
    "    def __iter__(self):\n",
    "        n=self.start\n",
    "        while n>0:\n",
    "            yield n\n",
    "            n-=1\n",
    "c=countdown(3)\n",
    "for n in c:\n",
    "    print(n)\n",
    "for n in c:\n",
    "    print(n)"
   ]
  },
  {
   "cell_type": "markdown",
   "id": "610abd11",
   "metadata": {},
   "source": [
    "### Generator Delegation\n",
    "Generator has to be driven by using a for loop or explicit next() calls. Simply calling it is not enough, to address this, the yield from statement can be used. "
   ]
  },
  {
   "cell_type": "code",
   "execution_count": 14,
   "id": "5cb21ab0",
   "metadata": {},
   "outputs": [
    {
     "name": "stdout",
     "output_type": "stream",
     "text": [
      "1 2 3 4 4 3 2 1 "
     ]
    }
   ],
   "source": [
    "def countup(stop):\n",
    "    n=1\n",
    "    while n<=stop:\n",
    "        yield n\n",
    "        n+=1\n",
    "def countdown(start):\n",
    "    n=start\n",
    "    while n>0:\n",
    "        yield n\n",
    "        n-=1\n",
    "def up_and_down(n):\n",
    "    yield from countup(n)\n",
    "    yield from countdown(n)\n",
    "\n",
    "for x in up_and_down(4):\n",
    "    print(x, end=' ')"
   ]
  },
  {
   "cell_type": "code",
   "execution_count": 15,
   "id": "a8009c3c",
   "metadata": {},
   "outputs": [
    {
     "name": "stdout",
     "output_type": "stream",
     "text": [
      "1 2 3 4 6 7 8 9 "
     ]
    }
   ],
   "source": [
    "def flatten(items):\n",
    "    for i in items:\n",
    "        if isinstance(i, list):\n",
    "            yield from flatten(i)\n",
    "        else:\n",
    "            yield i\n",
    "a=[1,2, [3,4], 6, [7,[8,9]]]\n",
    "for x in flatten(a):\n",
    "    print(x, end=' ')"
   ]
  },
  {
   "cell_type": "markdown",
   "id": "103668c9",
   "metadata": {},
   "source": [
    "To bypass python's recursion limit and make it work with deeply nested structure, the iteration can be driven in a different way using a stack"
   ]
  },
  {
   "cell_type": "code",
   "execution_count": null,
   "id": "6aa738c5",
   "metadata": {},
   "outputs": [],
   "source": [
    "def flatten(items):\n",
    "    stack=[iter(items)]\n",
    "    while stack:\n",
    "        try: \n",
    "            item=next(stack[-1])\n",
    "            if isinstance(item, list):\n",
    "                stack.append(iter(item))\n",
    "            else:\n",
    "                yield item\n",
    "        except StopIteration:\n",
    "            stack.pop()"
   ]
  },
  {
   "cell_type": "markdown",
   "id": "522a254f",
   "metadata": {},
   "source": [
    "### enchanced generator and yield expression\n",
    "Yield statement can also be used as an expression that appears on the right hand side of an assignment operator such that instead of producing values, it executes in response to values sent to it. Python requires that the first send() call must send None, because the generator hasn’t paused yet."
   ]
  },
  {
   "cell_type": "code",
   "execution_count": 21,
   "id": "fcfa8e7e",
   "metadata": {},
   "outputs": [
    {
     "name": "stdout",
     "output_type": "stream",
     "text": [
      "ready to receive\n",
      "got hello\n"
     ]
    }
   ],
   "source": [
    "def receiver():\n",
    "    print(\"ready to receive\")\n",
    "    while True:\n",
    "        n=yield\n",
    "        print('got', n)\n",
    "r=receiver()\n",
    "r.send(None)\n",
    "r.send(\"hello\")\n",
    "r.close()\n",
    "\n",
    "# r.send(1)"
   ]
  },
  {
   "cell_type": "markdown",
   "id": "2d6c4cd2",
   "metadata": {},
   "source": [
    "Exceptions can be raised inside a generator using the throw(ty[,val[,tb]]) method with ty is exception type, val is exception argument or tuple of arguemtns and tb is an optional traceback. \n"
   ]
  },
  {
   "cell_type": "code",
   "execution_count": 22,
   "id": "4d8c36f8",
   "metadata": {},
   "outputs": [
    {
     "name": "stderr",
     "output_type": "stream",
     "text": [
      "/tmp/ipykernel_15424/3426940217.py:2: DeprecationWarning: the (type, exc, tb) signature of throw() is deprecated, use the single-arg signature instead.\n",
      "  r.throw(RuntimeError, \"Dead\")\n"
     ]
    },
    {
     "ename": "RuntimeError",
     "evalue": "Dead",
     "output_type": "error",
     "traceback": [
      "\u001b[31m---------------------------------------------------------------------------\u001b[39m",
      "\u001b[31mRuntimeError\u001b[39m                              Traceback (most recent call last)",
      "\u001b[36mCell\u001b[39m\u001b[36m \u001b[39m\u001b[32mIn[22]\u001b[39m\u001b[32m, line 2\u001b[39m\n\u001b[32m      1\u001b[39m r=receiver()\n\u001b[32m----> \u001b[39m\u001b[32m2\u001b[39m \u001b[43mr\u001b[49m\u001b[43m.\u001b[49m\u001b[43mthrow\u001b[49m\u001b[43m(\u001b[49m\u001b[38;5;167;43;01mRuntimeError\u001b[39;49;00m\u001b[43m,\u001b[49m\u001b[43m \u001b[49m\u001b[33;43m\"\u001b[39;49m\u001b[33;43mDead\u001b[39;49m\u001b[33;43m\"\u001b[39;49m\u001b[43m)\u001b[49m\n",
      "\u001b[36mCell\u001b[39m\u001b[36m \u001b[39m\u001b[32mIn[21]\u001b[39m\u001b[32m, line 1\u001b[39m, in \u001b[36mreceiver\u001b[39m\u001b[34m()\u001b[39m\n\u001b[32m----> \u001b[39m\u001b[32m1\u001b[39m \u001b[38;5;28;01mdef\u001b[39;00m\u001b[38;5;250m \u001b[39m\u001b[34mreceiver\u001b[39m():\n\u001b[32m      2\u001b[39m     \u001b[38;5;28mprint\u001b[39m(\u001b[33m\"\u001b[39m\u001b[33mready to receive\u001b[39m\u001b[33m\"\u001b[39m)\n\u001b[32m      3\u001b[39m     \u001b[38;5;28;01mwhile\u001b[39;00m \u001b[38;5;28;01mTrue\u001b[39;00m:\n",
      "\u001b[31mRuntimeError\u001b[39m: Dead"
     ]
    }
   ],
   "source": [
    "r=receiver()\n",
    "r.throw(RuntimeError, \"Dead\")"
   ]
  },
  {
   "cell_type": "markdown",
   "id": "b8b34bbd",
   "metadata": {},
   "source": [
    "### Applications of Enchanced Generator\n"
   ]
  },
  {
   "cell_type": "code",
   "execution_count": 29,
   "id": "1cd003a9",
   "metadata": {},
   "outputs": [
    {
     "name": "stdout",
     "output_type": "stream",
     "text": [
      "None\n",
      "None\n",
      "b'Helloworld\\n'\n",
      "b'itWORKS\\n'\n"
     ]
    }
   ],
   "source": [
    "def line_receiver():\n",
    "    data=bytearray()\n",
    "    line=None\n",
    "    linecount=0\n",
    "    while True:\n",
    "        part=yield line\n",
    "        linecount +=part.count(b'\\n')\n",
    "        data.extend(part)\n",
    "        if linecount>0:\n",
    "            index=data.index(b'\\n')\n",
    "            line=bytes(data[:index+1])\n",
    "            data=data[index+1:]\n",
    "            linecount-=1\n",
    "        else:\n",
    "            line=None\n",
    "r = line_receiver()\n",
    "print(r.send(None))             #\n",
    "\n",
    "print(r.send(b'Hello'))        \n",
    "\n",
    "print(r.send(b'world\\nit'))   \n",
    "\n",
    "print(r.send(b'WORKS\\n')) "
   ]
  },
  {
   "cell_type": "code",
   "execution_count": null,
   "id": "ffc1600c",
   "metadata": {},
   "outputs": [],
   "source": []
  },
  {
   "cell_type": "code",
   "execution_count": null,
   "id": "7acb9b14",
   "metadata": {},
   "outputs": [],
   "source": []
  }
 ],
 "metadata": {
  "kernelspec": {
   "display_name": "learnpython",
   "language": "python",
   "name": "python3"
  },
  "language_info": {
   "codemirror_mode": {
    "name": "ipython",
    "version": 3
   },
   "file_extension": ".py",
   "mimetype": "text/x-python",
   "name": "python",
   "nbconvert_exporter": "python",
   "pygments_lexer": "ipython3",
   "version": "3.13.3"
  }
 },
 "nbformat": 4,
 "nbformat_minor": 5
}
