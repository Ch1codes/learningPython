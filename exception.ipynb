{
 "cells": [
  {
   "cell_type": "code",
   "execution_count": 1,
   "id": "124a11d4-c16a-416a-a7a3-c4cef1e2f38a",
   "metadata": {},
   "outputs": [
    {
     "name": "stdout",
     "output_type": "stream",
     "text": [
      "an error occured:ValueError(\"invalid literal for int() with base 10: 'a'\")\n"
     ]
    }
   ],
   "source": [
    "try:\n",
    "    int('a')\n",
    "except ValueError as e:\n",
    "    print(f'an error occured:{e!r}')\n"
   ]
  },
  {
   "cell_type": "code",
   "execution_count": 4,
   "id": "aa9e81a5-f50d-4bfd-a5b7-769afa855a0d",
   "metadata": {},
   "outputs": [
    {
     "name": "stdout",
     "output_type": "stream",
     "text": [
      "an error: RuntimeError('just an error')\n"
     ]
    }
   ],
   "source": [
    "try:\n",
    "    raise RuntimeError(\"just an error\")\n",
    "except RuntimeError as c:\n",
    "    print(f'an error: {c!r}')"
   ]
  },
  {
   "cell_type": "markdown",
   "id": "08aee1d1-053f-4e4b-9670-d28ace931f52",
   "metadata": {},
   "source": [
    "to handle all the exception use the code below"
   ]
  },
  {
   "cell_type": "code",
   "execution_count": 5,
   "id": "c14e7588-2e14-4b20-81d6-932c4fe792b8",
   "metadata": {},
   "outputs": [
    {
     "name": "stdout",
     "output_type": "stream",
     "text": [
      "an error: RuntimeError('just an error')\n"
     ]
    }
   ],
   "source": [
    "try:\n",
    "    raise RuntimeError(\"just an error\")\n",
    "except Exception as c:\n",
    "    print(f'an error: {c!r}')"
   ]
  },
  {
   "cell_type": "markdown",
   "id": "501b4a74-e60b-436d-bfb3-f326a9ec58c3",
   "metadata": {},
   "source": [
    "try statement also supports else clause, that must follow the last except clause and is executed only if the code in try block doesn't raise an exception.\n",
    "finally statement is executed regardless of what happens in a try-except block, it isn't used to catch an error."
   ]
  },
  {
   "cell_type": "markdown",
   "id": "c61ec16c-5c20-479f-b1d4-7f260f10cd7a",
   "metadata": {},
   "source": [
    "defining new exception"
   ]
  },
  {
   "cell_type": "code",
   "execution_count": 6,
   "id": "1f97d676-7668-48e0-82b1-12b9997d41f2",
   "metadata": {},
   "outputs": [
    {
     "ename": "newException",
     "evalue": "help me",
     "output_type": "error",
     "traceback": [
      "\u001b[31m---------------------------------------------------------------------------\u001b[39m",
      "\u001b[31mnewException\u001b[39m                              Traceback (most recent call last)",
      "\u001b[36mCell\u001b[39m\u001b[36m \u001b[39m\u001b[32mIn[6]\u001b[39m\u001b[32m, line 3\u001b[39m\n\u001b[32m      1\u001b[39m \u001b[38;5;28;01mclass\u001b[39;00m\u001b[38;5;250m \u001b[39m\u001b[34;01mnewException\u001b[39;00m(\u001b[38;5;167;01mException\u001b[39;00m):\n\u001b[32m      2\u001b[39m     \u001b[38;5;28;01mpass\u001b[39;00m\n\u001b[32m----> \u001b[39m\u001b[32m3\u001b[39m \u001b[38;5;28;01mraise\u001b[39;00m newException(\u001b[33m\"\u001b[39m\u001b[33mhelp me\u001b[39m\u001b[33m\"\u001b[39m)\n",
      "\u001b[31mnewException\u001b[39m: help me"
     ]
    }
   ],
   "source": [
    "class newException(Exception):\n",
    "    pass\n",
    "raise newException(\"help me\")"
   ]
  },
  {
   "cell_type": "markdown",
   "id": "e47ab4c6-dd2a-423b-86fa-992d0b2affc5",
   "metadata": {},
   "source": [
    "argument to new exception"
   ]
  },
  {
   "cell_type": "code",
   "execution_count": 7,
   "id": "e92184d5-e52e-4a7d-8c7d-2f5f89c3724a",
   "metadata": {},
   "outputs": [
    {
     "ename": "DeviceError",
     "evalue": "(1, 'not')",
     "output_type": "error",
     "traceback": [
      "\u001b[31m---------------------------------------------------------------------------\u001b[39m",
      "\u001b[31mDeviceError\u001b[39m                               Traceback (most recent call last)",
      "\u001b[36mCell\u001b[39m\u001b[36m \u001b[39m\u001b[32mIn[7]\u001b[39m\u001b[32m, line 6\u001b[39m\n\u001b[32m      4\u001b[39m         \u001b[38;5;28mself\u001b[39m.errno=errno\n\u001b[32m      5\u001b[39m         \u001b[38;5;28mself\u001b[39m.errmsg=msg\n\u001b[32m----> \u001b[39m\u001b[32m6\u001b[39m \u001b[38;5;28;01mraise\u001b[39;00m DeviceError(\u001b[32m1\u001b[39m, \u001b[33m\"\u001b[39m\u001b[33mnot\u001b[39m\u001b[33m\"\u001b[39m)\n",
      "\u001b[31mDeviceError\u001b[39m: (1, 'not')"
     ]
    }
   ],
   "source": [
    "class DeviceError(Exception):\n",
    "    def _init_(self, errno, msg):\n",
    "        self.args=(errno, msg) #this step is mandatory\n",
    "        self.errno=errno\n",
    "        self.errmsg=msg\n",
    "raise DeviceError(1, \"not\")"
   ]
  },
  {
   "cell_type": "markdown",
   "id": "af890241-5f70-4a8a-a0b1-fe6ec76d4337",
   "metadata": {},
   "source": [
    "to find the specific typeof error that was raised, examine the type of execution value with type()"
   ]
  },
  {
   "cell_type": "code",
   "execution_count": 10,
   "id": "96c75ce5-1cab-429c-a522-d31f9d4442bb",
   "metadata": {},
   "outputs": [
    {
     "name": "stdout",
     "output_type": "stream",
     "text": [
      "<class '__main__.HostnameError'>\n"
     ]
    }
   ],
   "source": [
    "class HostnameError(DeviceError):\n",
    "    pass\n",
    "class TimeoutError(DeviceError):\n",
    "    pass\n",
    "def error1():\n",
    "    raise HostnameError(\"unknown\")\n",
    "def error2():\n",
    "    raise TimeoutError(DeviceError)\n",
    "\n",
    "try:\n",
    "    error1()\n",
    "except DeviceError as e:\n",
    "    print(type(e))"
   ]
  },
  {
   "cell_type": "markdown",
   "id": "93c5a1a6-ff52-499e-80eb-443146f0f046",
   "metadata": {},
   "source": [
    "chained exception"
   ]
  },
  {
   "cell_type": "code",
   "execution_count": 18,
   "id": "6ab2f261-06a1-488a-b611-00d522df4056",
   "metadata": {},
   "outputs": [
    {
     "name": "stdout",
     "output_type": "stream",
     "text": [
      "invalid literal for int() with base 10: 'a'\n"
     ]
    }
   ],
   "source": [
    "class ApplicationError(Exception):\n",
    "    pass\n",
    "def do_something():\n",
    "    x=int('a')\n",
    "def spam():\n",
    "    try:\n",
    "        do_something()\n",
    "    except Exception as e:\n",
    "        raise ApplicationError('It failed') from e\n",
    "\n",
    "try:\n",
    "    spam()\n",
    "except ApplicationError as e:\n",
    "    print(e.__cause__)"
   ]
  },
  {
   "cell_type": "code",
   "execution_count": 19,
   "id": "beba52c5-e042-45fe-9465-224162d818ca",
   "metadata": {},
   "outputs": [
    {
     "name": "stdout",
     "output_type": "stream",
     "text": [
      "None\n"
     ]
    }
   ],
   "source": [
    "class ApplicationError(Exception):\n",
    "    pass\n",
    "def do_something():\n",
    "    x=int('a')\n",
    "def spam():\n",
    "    try:\n",
    "        do_something()\n",
    "    except Exception as e:\n",
    "        raise ApplicationError('It failed') from None\n",
    "\n",
    "try:\n",
    "    spam()\n",
    "except ApplicationError as e:\n",
    "    print(e.__cause__)"
   ]
  },
  {
   "cell_type": "markdown",
   "id": "9052925e-66cc-48b5-8853-7c5ee3ae8bd5",
   "metadata": {},
   "source": [
    "__cause__ attribute is reserved for when you are expecting the possibility of a fialure\n",
    "__context__attribute is set in both cases but would be only source of information for an unexpected exception raised while handling another exception. "
   ]
  },
  {
   "cell_type": "code",
   "execution_count": 1,
   "id": "f3d09cea-907d-42a6-8ce8-f741c354cf6c",
   "metadata": {},
   "outputs": [
    {
     "name": "stdout",
     "output_type": "stream",
     "text": [
      "name 'err' is not defined invalid literal for int() with base 10: 'a'\n"
     ]
    }
   ],
   "source": [
    "class ApplicationError(Exception):\n",
    "    pass\n",
    "def do_something():\n",
    "    x=int('a')\n",
    "def spam():\n",
    "    try:\n",
    "        do_something()\n",
    "    except Exception as e:\n",
    "        print(err)\n",
    "        raise ApplicationError('It failed') from None\n",
    "\n",
    "try:\n",
    "    spam()\n",
    "except Exception as e:\n",
    "    print(e, e.__context__)"
   ]
  },
  {
   "cell_type": "code",
   "execution_count": 2,
   "id": "0e7f1e4b-d3c2-488c-be57-230fe68057b1",
   "metadata": {},
   "outputs": [
    {
     "name": "stdout",
     "output_type": "stream",
     "text": [
      "hello\n"
     ]
    }
   ],
   "source": [
    "print(\"hello\")"
   ]
  },
  {
   "cell_type": "code",
   "execution_count": null,
   "id": "3b5f4712",
   "metadata": {},
   "outputs": [],
   "source": []
  }
 ],
 "metadata": {
  "kernelspec": {
   "display_name": "Python (learnpython)",
   "language": "python",
   "name": "learnpython"
  },
  "language_info": {
   "codemirror_mode": {
    "name": "ipython",
    "version": 3
   },
   "file_extension": ".py",
   "mimetype": "text/x-python",
   "name": "python",
   "nbconvert_exporter": "python",
   "pygments_lexer": "ipython3",
   "version": "3.13.3"
  }
 },
 "nbformat": 4,
 "nbformat_minor": 5
}
