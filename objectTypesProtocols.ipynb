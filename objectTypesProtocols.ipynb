{
 "cells": [
  {
   "cell_type": "markdown",
   "id": "96448acf",
   "metadata": {},
   "source": [
    "Objects, Types and Protocols"
   ]
  },
  {
   "cell_type": "markdown",
   "id": "2798cae9",
   "metadata": {},
   "source": [
    "An object holding references to other objects is said to be a container. "
   ]
  },
  {
   "cell_type": "markdown",
   "id": "c4edbac5",
   "metadata": {},
   "source": [
    "Attributes can be accessed through the dot operator.\n"
   ]
  },
  {
   "cell_type": "code",
   "execution_count": 3,
   "id": "536ed868",
   "metadata": {},
   "outputs": [
    {
     "name": "stdout",
     "output_type": "stream",
     "text": [
      "34\n",
      "[1, 2, 3, 7]\n"
     ]
    }
   ],
   "source": [
    "a=34\n",
    "n=a.numerator\n",
    "print(n)\n",
    "\n",
    "b=[1,2,3]\n",
    "b.append(7)\n",
    "print(b)"
   ]
  },
  {
   "cell_type": "markdown",
   "id": "de264b74",
   "metadata": {},
   "source": [
    "id(): returns identity of an object ie an interger value corresponding to object's location in memory\n",
    "is and is not operator: compare identities\n",
    "type(): return type of an object"
   ]
  },
  {
   "cell_type": "code",
   "execution_count": 6,
   "id": "1b910114",
   "metadata": {},
   "outputs": [
    {
     "name": "stdout",
     "output_type": "stream",
     "text": [
      "same type\n",
      "Same value\n",
      "same type\n",
      "Same object\n",
      "Same value\n",
      "same type\n"
     ]
    }
   ],
   "source": [
    "def compare(a, b):\n",
    "    if a is b:\n",
    "        print(\"Same object\")\n",
    "    if a==b:\n",
    "        print(\"Same value\")\n",
    "    if type(a) is type(b):\n",
    "        print(\"same type\")\n",
    "\n",
    "a=[1,2,3]\n",
    "compare(a,b)\n",
    "c=[1,2,3]\n",
    "compare(a,c)\n",
    "compare(a,a)\n"
   ]
  },
  {
   "cell_type": "code",
   "execution_count": 7,
   "id": "9bc252b9",
   "metadata": {},
   "outputs": [
    {
     "name": "stdout",
     "output_type": "stream",
     "text": [
      "[[1, 2, 3]]\n"
     ]
    }
   ],
   "source": [
    "item=[1,2,3]\n",
    "items=list()\n",
    "if isinstance(items, list):\n",
    "    items.append(item)\n",
    "print(items)"
   ]
  },
  {
   "cell_type": "code",
   "execution_count": 12,
   "id": "92ec7e0f",
   "metadata": {},
   "outputs": [
    {
     "name": "stdout",
     "output_type": "stream",
     "text": [
      "[1, 3, 4]\n"
     ]
    }
   ],
   "source": [
    "items=[1,2,3,4]\n",
    "def removeall(items:list, item)->list:\n",
    "    return [i for i in items if i !=item]\n",
    "print(removeall(items, 2))"
   ]
  },
  {
   "cell_type": "markdown",
   "id": "088f4670",
   "metadata": {},
   "source": [
    "Reference counting and garbage collection\n",
    "All objects are reference-counted with it's reference count increasing whenever it is assigned to a new name or placed in a container such as list, tuple or dictionary.\n",
    "An object's refernce count is decreased by the del statement or whenever a reference goes out of scope or is reassigned. \n",
    "When an object's reference count reaches zero, it is garbage colleced. "
   ]
  },
  {
   "cell_type": "code",
   "execution_count": 15,
   "id": "64fd0d69",
   "metadata": {},
   "outputs": [],
   "source": [
    "import sys\n",
    "a=37\n",
    "sys.getrefcount(a)\n",
    "del a\n"
   ]
  },
  {
   "cell_type": "code",
   "execution_count": 16,
   "id": "0fd3f41b",
   "metadata": {},
   "outputs": [
    {
     "name": "stdout",
     "output_type": "stream",
     "text": [
      "True\n"
     ]
    }
   ],
   "source": [
    "a= 5\n",
    "b=a\n",
    "print(b is a)"
   ]
  },
  {
   "cell_type": "code",
   "execution_count": null,
   "id": "f05d4035",
   "metadata": {},
   "outputs": [
    {
     "name": "stdout",
     "output_type": "stream",
     "text": [
      "True\n",
      "[1, 2, 9, 4]\n"
     ]
    }
   ],
   "source": [
    "a=[1,2,3,4]\n",
    "b=a #b references a such that any change in b is seen in a\n",
    "print(b is a )\n",
    "b[2]=9\n",
    "print(a)"
   ]
  },
  {
   "cell_type": "code",
   "execution_count": 18,
   "id": "18530e16",
   "metadata": {},
   "outputs": [
    {
     "name": "stdout",
     "output_type": "stream",
     "text": [
      "False\n",
      "[1, 2, 3, 4]\n"
     ]
    }
   ],
   "source": [
    "a=[1,2,3,4]\n",
    "b=list(a) #b references a such that any change in b is seen in a\n",
    "print(b is a )\n",
    "b[2]=9\n",
    "print(a)"
   ]
  },
  {
   "cell_type": "markdown",
   "id": "af5adb55",
   "metadata": {},
   "source": [
    "Two types of copy operations are applied to contained objects such as lists and dictionaries: a shallow copy and a deep copy. "
   ]
  },
  {
   "cell_type": "markdown",
   "id": "e7242e5e",
   "metadata": {},
   "source": [
    "A shallow copy creates a new object but populates it with references to items contained in the original object. the original and the copy are two separate list objects but the elements they contain are shared. "
   ]
  },
  {
   "cell_type": "code",
   "execution_count": 19,
   "id": "214a3b27",
   "metadata": {},
   "outputs": [
    {
     "name": "stdout",
     "output_type": "stream",
     "text": [
      "False\n",
      "[1, 2, [3, 4], 100]\n",
      "[1, 2, [3, 4]]\n",
      "[1, 2, [-100, 4], 100]\n",
      "[1, 2, [-100, 4]]\n"
     ]
    }
   ],
   "source": [
    "a=[1,2, [3,4]]\n",
    "b=list(a)\n",
    "print(b is a)\n",
    "b.append(100)\n",
    "print(b)\n",
    "print(a)\n",
    "b[2][0]=-100\n",
    "print(b)\n",
    "print(a)"
   ]
  },
  {
   "cell_type": "markdown",
   "id": "70af33c1",
   "metadata": {},
   "source": [
    "Deep copy creates a new object and recursively copies all the objects it contains, you need to import copy library and use copy.deepcopy() function. It is discouraged to save performace and necessity is low only to save original upon mutating data in the copy. It also fails with ovjects that involve system or runtime state. "
   ]
  },
  {
   "cell_type": "code",
   "execution_count": 20,
   "id": "cf492c5a",
   "metadata": {},
   "outputs": [
    {
     "name": "stdout",
     "output_type": "stream",
     "text": [
      "[1, 2, [-100, 4]]\n",
      "[1, 2, [3, 4]]\n"
     ]
    }
   ],
   "source": [
    "import copy\n",
    "a=[1,2,[3,4]]\n",
    "b=copy.deepcopy(a)\n",
    "b[2][0]=-100\n",
    "print(b)\n",
    "print(a)"
   ]
  },
  {
   "cell_type": "markdown",
   "id": "879e9352",
   "metadata": {},
   "source": [
    "print() and str() displays data in human readable form but repr() also displays the type of the object. in string formatting, the !r suffic can be added to the value to produce its repr() value instead of the normal string conversion. "
   ]
  },
  {
   "cell_type": "code",
   "execution_count": 22,
   "id": "0af72cbd",
   "metadata": {},
   "outputs": [
    {
     "name": "stdout",
     "output_type": "stream",
     "text": [
      "2020-12-12\n",
      "2020-12-12\n",
      "datetime.date(2020, 12, 12)\n",
      "date: datetime.date(2020, 12, 12)\n"
     ]
    }
   ],
   "source": [
    "from datetime import date\n",
    "d=date(2020, 12,12)\n",
    "print(d)\n",
    "print(str(d))\n",
    "print(repr(d))\n",
    "print(f'date: {d!r}')"
   ]
  },
  {
   "cell_type": "markdown",
   "id": "022da0f5",
   "metadata": {},
   "source": [
    "All objects in Python are said to be first-class. This means that all objects that can be\n",
    "assigned to a name can also be treated as data. As data, objects can be stored as variables,\n",
    "passed as arguments, returned from functions, compared against other objects, and more."
   ]
  },
  {
   "cell_type": "code",
   "execution_count": 23,
   "id": "54c7e152",
   "metadata": {},
   "outputs": [
    {
     "name": "stdout",
     "output_type": "stream",
     "text": [
      "45\n",
      "2.0\n",
      "couldn't convert\n",
      "[1, 2, 3, 4, 100]\n"
     ]
    }
   ],
   "source": [
    "items={\n",
    "    'number':42,\n",
    "    'text':\"Hello world\"\n",
    "}\n",
    "items['func']=abs\n",
    "import math\n",
    "items['mod']=math\n",
    "items['error']=ValueError\n",
    "nums=[1,2,3,4]\n",
    "items['append']=nums.append\n",
    "print(items['func'](-45))\n",
    "print(items['mod'].sqrt(4))\n",
    "try: \n",
    "    x=int('a')\n",
    "except items['error']as e:\n",
    "    print(\"couldn't convert\")\n",
    "items['append'](100)\n",
    "print(nums)"
   ]
  },
  {
   "cell_type": "code",
   "execution_count": 24,
   "id": "baed8c6f",
   "metadata": {},
   "outputs": [
    {
     "name": "stdout",
     "output_type": "stream",
     "text": [
      "['acme', 100, 490.1]\n"
     ]
    }
   ],
   "source": [
    "line='acme, 100, 490.10'\n",
    "column_types=[str, int, float]\n",
    "parts=line.split(',')\n",
    "row=[ty(val) for ty, val in zip(column_types, parts)]\n",
    "print(row)"
   ]
  },
  {
   "cell_type": "markdown",
   "id": "34cb0303",
   "metadata": {},
   "source": [
    "None is returned byfunctions that don't explicitly return a value, it has no attributes and evaluates to False in Boolean expression.  It is also used as default value for optional arguments to detect whether the caller has actually passed a value for that argument. \n",
    "\n",
    "To test a value against None use 'is' operation, '===' is also used but not recommended. "
   ]
  },
  {
   "cell_type": "markdown",
   "id": "40f38a73",
   "metadata": {},
   "source": [
    "Object Protocol and Data Abstraction"
   ]
  },
  {
   "cell_type": "markdown",
   "id": "f9be8640",
   "metadata": {},
   "source": [
    "Behaviour of an object is determined by a dynamic process that involves the dispatch of so called \"special\" or \"magic\" methods. The names of these specials methods are always preceded and followed by double underscores(__). the methods are automatically triggered by the interpreter as a program executes. The names of these methods and their corresponding operators are hard-wired; the behaviour of any given object depends entirely on the set of special methods that it implements. "
   ]
  },
  {
   "cell_type": "markdown",
   "id": "0734294c",
   "metadata": {},
   "source": [
    "Methods for object management \n",
    "|Method|Description|\n",
    "|:----------------------:|--------------------:|\n",
    "| \\_\\_new\\_\\_(cls [, *args [, **kwargs]])|A static method to create a new instance|\n",
    "| \\_\\_init\\_\\_(self [, *args[, **kwargs]])|called t initialize a new instance after creation|\n",
    "| \\_\\_del\\_\\_(self)|called when an instance is being destryoed|\n",
    "| \\_\\_repr\\_\\_(self)|create a string representation.|"
   ]
  },
  {
   "cell_type": "code",
   "execution_count": 1,
   "id": "bb3f5501",
   "metadata": {},
   "outputs": [
    {
     "name": "stdout",
     "output_type": "stream",
     "text": [
      "[2, 3, 4]\n",
      "[2, 3, 4]\n"
     ]
    }
   ],
   "source": [
    "a=[2,3,4]\n",
    "s=repr(a)\n",
    "print(s)\n",
    "b=eval(s)\n",
    "print(b)"
   ]
  },
  {
   "cell_type": "markdown",
   "id": "03c41c95",
   "metadata": {},
   "source": []
  }
 ],
 "metadata": {
  "kernelspec": {
   "display_name": "learnpython",
   "language": "python",
   "name": "python3"
  },
  "language_info": {
   "codemirror_mode": {
    "name": "ipython",
    "version": 3
   },
   "file_extension": ".py",
   "mimetype": "text/x-python",
   "name": "python",
   "nbconvert_exporter": "python",
   "pygments_lexer": "ipython3",
   "version": "3.13.3"
  }
 },
 "nbformat": 4,
 "nbformat_minor": 5
}
